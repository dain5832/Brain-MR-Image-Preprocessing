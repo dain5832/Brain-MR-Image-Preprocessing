{
 "cells": [
  {
   "cell_type": "code",
   "execution_count": 1,
   "metadata": {
    "scrolled": true
   },
   "outputs": [
    {
     "name": "stdout",
     "output_type": "stream",
     "text": [
      "Requirement already satisfied: pydicom in /home/sc-mlsg/anaconda3/lib/python3.7/site-packages (2.0.0)\r\n"
     ]
    }
   ],
   "source": [
    "!pip install pydicom\n",
    "import pydicom\n",
    "import numpy as np\n",
    "import os\n",
    "import shutil"
   ]
  },
  {
   "cell_type": "code",
   "execution_count": 2,
   "metadata": {
    "scrolled": true
   },
   "outputs": [
    {
     "name": "stdout",
     "output_type": "stream",
     "text": [
      "working on  20200601\n",
      "working on  20200602\n",
      "working on  20200603\n",
      "working on  20200604\n",
      "working on  20200605\n",
      "working on  20200606\n",
      "working on  20200608\n",
      "working on  20200609\n",
      "working on  20200610\n",
      "working on  20200611\n",
      "working on  20200612\n",
      "working on  20200613\n",
      "working on  20200614\n",
      "working on  20200615\n",
      "working on  20200616\n",
      "working on  20200617\n",
      "working on  20200618\n",
      "working on  20200619\n",
      "working on  20200620\n",
      "working on  20200621\n",
      "working on  20200622\n",
      "working on  20200623\n",
      "working on  20200624\n",
      "working on  20200625\n",
      "working on  20200626\n",
      "working on  20200627\n",
      "working on  20200628\n",
      "working on  20200629\n",
      "working on  20200630\n",
      "working on  20200701\n",
      "working on  20200702\n",
      "working on  20200703\n",
      "working on  20200704\n",
      "working on  20200706\n",
      "working on  20200707\n",
      "working on  20200708\n",
      "working on  20200709\n",
      "working on  20200710\n",
      "working on  20200713\n",
      "working on  20200714\n",
      "working on  20200715\n",
      "working on  20200716\n",
      "working on  20200717\n",
      "working on  20200718\n",
      "working on  20200719\n",
      "working on  20200720\n",
      "working on  20200721\n",
      "working on  20200723\n",
      "working on  20200724\n",
      "working on  20200725\n",
      "working on  20200728\n",
      "working on  20200729\n"
     ]
    }
   ],
   "source": [
    "srcDir = '/media/sc-mlsg/T7/KHS_control/IMGDATA/'\n",
    "destDir = '/media/sc-mlsg/easystore/KHS_control_dcm/'\n",
    "\n",
    "errors_list = []\n",
    "\n",
    "for date in os.listdir(srcDir):\n",
    "    datePath = os.path.join(srcDir, date)\n",
    "    print('working on ', date)\n",
    "    \n",
    "    for sub in os.listdir(datePath):\n",
    "        subPath_1 = os.path.join(datePath, sub)\n",
    "        \n",
    "        for dcm in os.listdir(subPath_1):\n",
    "            dcmPath = os.path.join(subPath_1, dcm)\n",
    "                \n",
    "            try:\n",
    "                    dcmData = pydicom.dcmread(dcmPath)\n",
    "\n",
    "                    Pt_ID = dcmData[0x00100020].value\n",
    "                    Series_name = dcmData[0x0008103e].value\n",
    "                    dcmDestDir = os.path.join(destDir, Pt_ID, Series_name)\n",
    "                    os.makedirs(dcmDestDir, exist_ok=True)\n",
    "                    dcmDestPath = os.path.join(destDir, Pt_ID, Series_name, dcm)\n",
    "                    if not os.path.exists(dcmDestPath):\n",
    "                        shutil.copyfile(dcmPath, dcmDestPath)\n",
    "\n",
    "            except:\n",
    "                    errors_list.append(dcm)\n"
   ]
  },
  {
   "cell_type": "code",
   "execution_count": null,
   "metadata": {},
   "outputs": [],
   "source": [
    " "
   ]
  }
 ],
 "metadata": {
  "kernelspec": {
   "display_name": "Python 3",
   "language": "python",
   "name": "python3"
  },
  "language_info": {
   "codemirror_mode": {
    "name": "ipython",
    "version": 3
   },
   "file_extension": ".py",
   "mimetype": "text/x-python",
   "name": "python",
   "nbconvert_exporter": "python",
   "pygments_lexer": "ipython3",
   "version": "3.7.6"
  }
 },
 "nbformat": 4,
 "nbformat_minor": 5
}
