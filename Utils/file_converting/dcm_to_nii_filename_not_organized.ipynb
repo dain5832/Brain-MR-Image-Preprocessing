{
 "cells": [
  {
   "cell_type": "markdown",
   "metadata": {},
   "source": [
    "# DICOM to NIFTI"
   ]
  },
  {
   "cell_type": "code",
   "execution_count": null,
   "metadata": {
    "scrolled": true
   },
   "outputs": [],
   "source": [
    "!pip install dicom2nifti"
   ]
  },
  {
   "cell_type": "code",
   "execution_count": null,
   "metadata": {},
   "outputs": [],
   "source": [
    "######### Conversion of DICOM to NIFTI #########\n",
    "\n",
    "import os\n",
    "import dicom2nifti\n",
    "import shutil\n",
    "import pydicom\n",
    "import pandas as pd\n",
    "\n",
    "# arguments ##############################################\n",
    "in_path = '/media/sc-mlsg/PYW98854602/20210104_LGG/'  # A folder containing DICOM files.\n",
    "destination = \"/media/sc-mlsg/PYW98854602/20210104_LGG_nii/\"\n",
    "out_path = '/media/sc-mlsg/PYW98854602/20210104_LGG_nii/'  # A folder that tranformed nifti files will be saved.\n",
    "########################################################################################\n",
    "\n",
    "error_dict={}"
   ]
  },
  {
   "cell_type": "code",
   "execution_count": null,
   "metadata": {},
   "outputs": [],
   "source": [
    "# check file directory\n",
    "total = 0\n",
    "for (dcm_path, dirs, files) in os.walk(in_path):\n",
    "    if total > 100:\n",
    "        break\n",
    "    total += 1\n",
    "    print(dcm_path, dirs, files)\n",
    "    "
   ]
  },
  {
   "cell_type": "code",
   "execution_count": null,
   "metadata": {
    "scrolled": true
   },
   "outputs": [],
   "source": [
    "dcm_path.split(os.path.sep)[6]"
   ]
  },
  {
   "cell_type": "code",
   "execution_count": null,
   "metadata": {
    "scrolled": true
   },
   "outputs": [],
   "source": [
    "total = 0\n",
    "error_dict = {}\n",
    "\n",
    "for (dcm_path, dirs, files) in os.walk(in_path):\n",
    "    if files == []:\n",
    "        continue\n",
    "    try:\n",
    "        total += 1\n",
    "        if total < 1500:\n",
    "            continue\n",
    "        print(\"Converting image #{} filename: {}\".format(total, dcm_path))\n",
    "        dcmData = pydicom.dcmread(os.path.join(dcm_path, files[0]))\n",
    "        pt_ID = dcmData[0x00100020].value\n",
    "\n",
    "        series_name = dcmData[0x0008103e].value.replace(' ', '_')\n",
    "\n",
    "#        study_date = dcmData[0x00080020].value\n",
    "#        print(pt_ID, series_name, study_date)\n",
    "\n",
    "        new_dir = os.path.join(out_path, pt_ID, dcm_path.split(os.path.sep)[6])\n",
    "        new_filename =  os.path.join(new_dir, dcm_path.split(os.path.sep)[-1]+'_'+series_name + '.nii.gz')\n",
    "\n",
    "        os.makedirs(new_dir, exist_ok=True)\n",
    "\n",
    "        if os.path.exists(new_filename):\n",
    "            print(\"This file already has been converted.\")\n",
    "            continue\n",
    "        dicom2nifti.dicom_series_to_nifti(dcm_path, new_filename, reorient_nifti=False)\n",
    "    \n",
    "    except Exception as error:\n",
    "        print(\"Error occured {}\".format(error))\n",
    "        error_dict[dcm_path] = [series_name, error]\n",
    "\n",
    "print(error_dict)"
   ]
  },
  {
   "cell_type": "code",
   "execution_count": null,
   "metadata": {},
   "outputs": [],
   "source": [
    "error_dict"
   ]
  },
  {
   "cell_type": "code",
   "execution_count": null,
   "metadata": {},
   "outputs": [],
   "source": [
    "# save csv file\n",
    "import pandas as pd\n",
    "data = pd.DataFrame.from_dict(error_dict, orient='index', columns=[\"sequence\", \"error\"])\n",
    "data.to_csv(os.path.join(out_path, \"error2.csv\"))"
   ]
  }
 ],
 "metadata": {
  "kernelspec": {
   "display_name": "Python 3",
   "language": "python",
   "name": "python3"
  },
  "language_info": {
   "codemirror_mode": {
    "name": "ipython",
    "version": 3
   },
   "file_extension": ".py",
   "mimetype": "text/x-python",
   "name": "python",
   "nbconvert_exporter": "python",
   "pygments_lexer": "ipython3",
   "version": "3.7.6"
  }
 },
 "nbformat": 4,
 "nbformat_minor": 4
}
