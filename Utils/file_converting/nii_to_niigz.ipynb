{
 "cells": [
  {
   "cell_type": "code",
   "execution_count": 1,
   "metadata": {},
   "outputs": [],
   "source": [
    "import nibabel as nib\n",
    "import os\n",
    "import shutil\n",
    "import numpy as np"
   ]
  },
  {
   "cell_type": "code",
   "execution_count": 9,
   "metadata": {},
   "outputs": [],
   "source": [
    "maskDir = '/media/sc-mlsg/DATA2/Perfusion_study_radiomics_preprocessed/00_Tumor_masks_resampled/7471985/'\n"
   ]
  },
  {
   "cell_type": "code",
   "execution_count": 10,
   "metadata": {},
   "outputs": [
    {
     "name": "stdout",
     "output_type": "stream",
     "text": [
      "/media/sc-mlsg/DATA2/Perfusion_study_radiomics_preprocessed/00_Tumor_masks_resampled/7471985/ [] ['7471985_mask.nii']\n"
     ]
    }
   ],
   "source": [
    "for (path, dirs, files) in os.walk(maskDir):\n",
    "    print(path, dirs, files)"
   ]
  },
  {
   "cell_type": "code",
   "execution_count": 12,
   "metadata": {},
   "outputs": [
    {
     "name": "stdout",
     "output_type": "stream",
     "text": [
      "/media/sc-mlsg/DATA2/Perfusion_study_radiomics_preprocessed/00_Tumor_masks_resampled/7471985/7471985_mask.nii\n"
     ]
    }
   ],
   "source": [
    "for (path, dirs, files) in os.walk(maskDir):\n",
    "    if files:\n",
    "        for file in files:\n",
    "            filepath = os.path.join(path, file)\n",
    "            print(filepath)\n",
    "            img = nib.load(filepath)\n",
    "            nib.save(img, os.path.join(path, file.split('.')[0]+'.nii.gz'))"
   ]
  },
  {
   "cell_type": "code",
   "execution_count": null,
   "metadata": {},
   "outputs": [],
   "source": []
  }
 ],
 "metadata": {
  "kernelspec": {
   "display_name": "Python 3",
   "language": "python",
   "name": "python3"
  },
  "language_info": {
   "codemirror_mode": {
    "name": "ipython",
    "version": 3
   },
   "file_extension": ".py",
   "mimetype": "text/x-python",
   "name": "python",
   "nbconvert_exporter": "python",
   "pygments_lexer": "ipython3",
   "version": "3.7.6"
  }
 },
 "nbformat": 4,
 "nbformat_minor": 4
}
