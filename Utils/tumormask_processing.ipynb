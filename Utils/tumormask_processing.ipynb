{
 "cells": [
  {
   "cell_type": "code",
   "execution_count": null,
   "metadata": {},
   "outputs": [],
   "source": [
    "import os\n",
    "import numpy as np\n",
    "import nibabel as nib"
   ]
  },
  {
   "cell_type": "code",
   "execution_count": null,
   "metadata": {},
   "outputs": [],
   "source": [
    "targetDir = '/media/sc-mlsg/DATA2/Perfusion_study_radiomics_preprocessed/00_Tumor_masks_organized'\n",
    "maskDir = '/media/sc-mlsg/DATA2/Perfusion_study_radiomics_preprocessed/00_Tumor_masks_resampled/'"
   ]
  },
  {
   "cell_type": "code",
   "execution_count": null,
   "metadata": {
    "scrolled": true
   },
   "outputs": [],
   "source": [
    "for (path, dirs, files) in os.walk(maskDir):\n",
    "    if not files:\n",
    "        continue\n",
    "    for file in files:\n",
    "        total += 1\n",
    "        img = nib.load(os.path.join(path, file))\n",
    "        pt = path.split(os.path.sep)[-1]\n",
    "        print(total, pt)\n",
    "        filedata = img.get_fdata()\n",
    "        filedata = np.where(filedata > 0.5, 1, 0)\n",
    "        \n",
    "        if not os.path.exists(os.path.join(targetDir, pt)):        \n",
    "            os.makedirs(os.path.join(targetDir, pt))\n",
    "        new = nib.Nifti1Image(filedata, img.affine, img.header)\n",
    "        nib.save(new, os.path.join(targetDir, pt, file))"
   ]
  },
  {
   "cell_type": "code",
   "execution_count": null,
   "metadata": {},
   "outputs": [],
   "source": [
    "filedata = file.get_data()\n",
    "imgdata = img.get_data()"
   ]
  },
  {
   "cell_type": "code",
   "execution_count": null,
   "metadata": {},
   "outputs": [],
   "source": [
    "filedata.shape"
   ]
  },
  {
   "cell_type": "code",
   "execution_count": null,
   "metadata": {},
   "outputs": [],
   "source": [
    "imgdata.shape"
   ]
  },
  {
   "cell_type": "code",
   "execution_count": null,
   "metadata": {},
   "outputs": [],
   "source": [
    "file.header"
   ]
  },
  {
   "cell_type": "code",
   "execution_count": null,
   "metadata": {},
   "outputs": [],
   "source": []
  }
 ],
 "metadata": {
  "kernelspec": {
   "display_name": "Python 3",
   "language": "python",
   "name": "python3"
  },
  "language_info": {
   "codemirror_mode": {
    "name": "ipython",
    "version": 3
   },
   "file_extension": ".py",
   "mimetype": "text/x-python",
   "name": "python",
   "nbconvert_exporter": "python",
   "pygments_lexer": "ipython3",
   "version": "3.7.6"
  }
 },
 "nbformat": 4,
 "nbformat_minor": 4
}
