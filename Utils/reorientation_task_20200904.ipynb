{
 "cells": [
  {
   "cell_type": "markdown",
   "metadata": {},
   "source": [
    "### 폴더명: Asan-meningioma_Low_grade\n",
    "### task\n",
    "몇몇 마스크 파일이 맞지 않음.(아마도 superior와 inferior가 바뀐듯?)\n",
    "확인해서 마스크 파일만 reorientation하기\n",
    "\n",
    "### solution\n",
    "jupyter로 orientation 이상한 mask를 다른 폴더에 옮기고,\n",
    "mipav 메크로로 reorientation할 예정"
   ]
  },
  {
   "cell_type": "code",
   "execution_count": null,
   "metadata": {},
   "outputs": [],
   "source": [
    "import os\n",
    "import nibabel as nib\n",
    "import numpy as np\n",
    "import matplotlib.pyplot as plt\n",
    "from scipy.ndimage import zoom\n",
    "from scipy import ndimage\n",
    "from glob import glob\n",
    "import shutil\n",
    "\n",
    "sourceDir = 'E:/Asan-meningioma_Low_grade/BrainMask'\n",
    "targetDir = 'E:/Asan-meningioma_Low_grade/BrainMask'"
   ]
  },
  {
   "cell_type": "code",
   "execution_count": null,
   "metadata": {},
   "outputs": [],
   "source": [
    "def make_dirs(path_lst):\n",
    "    for path in path_lst:\n",
    "        if not os.path.exists(path):\n",
    "            os.makedirs(path)\n",
    "        else:\n",
    "            pass\n",
    "\n",
    "# function that creates outputdir and return output filepath by combining outDir, pt, filename\n",
    "def get_outpath(outDir, pt, filename):\n",
    "    outPath = os.path.join(outDir, pt, filename)\n",
    "\n",
    "    make_dirs([os.path.join(outDir, pt)])\n",
    "\n",
    "    if os.path.exists(outPath):\n",
    "        print('{} already exists'.format(filename))\n",
    "        return None\n",
    "    else:\n",
    "        return outPath\n"
   ]
  },
  {
   "cell_type": "code",
   "execution_count": null,
   "metadata": {
    "scrolled": true
   },
   "outputs": [],
   "source": [
    "# orientation 출력하기\n",
    "\n",
    "for (path, dirs, files) in os.walk(sourceDir):\n",
    "    for file in files:\n",
    "        filepath = os.path.join(path, file)\n",
    "        img = nib.load(filepath)\n",
    "        img_data = img.get_fdata()\n",
    "        orientation = nib.aff2axcodes(img.affine)\n",
    "        print(file, orientation)"
   ]
  },
  {
   "cell_type": "markdown",
   "metadata": {},
   "source": [
    "우선 위와 같이 orientation을 뽑았는데 여기에는 문제 안보임. \\\n",
    "따라서 header를 한 번 보고 거기서도 문제 안보이면 직접 마스크 적용해서 이상한거 골라내야할 듯."
   ]
  },
  {
   "cell_type": "code",
   "execution_count": null,
   "metadata": {},
   "outputs": [],
   "source": [
    "# print header, affine\n",
    "for (path, dirs, files) in os.walk(sourceDir):\n",
    "    for file in files:\n",
    "        filepath = os.path.join(path, file)\n",
    "        img = nib.load(filepath)\n",
    "        print(file)\n",
    "        print(img.affine)\n"
   ]
  },
  {
   "cell_type": "markdown",
   "metadata": {},
   "source": [
    "header를 print했는데 orientation 관련된 정보는 없어서 skip. \\\n",
    "affine을 print해도 딱히 뭐가 이상한지 모르겠음.."
   ]
  },
  {
   "cell_type": "code",
   "execution_count": null,
   "metadata": {
    "scrolled": true
   },
   "outputs": [],
   "source": [
    "# print header, affine\n",
    "import matplotlib.pyplot as plt\n",
    "%matplotlib inline\n",
    "\n",
    "for (path, dirs, files) in os.walk(sourceDir):\n",
    "    for file in files:\n",
    "        filepath = os.path.join(path, file)\n",
    "        img = nib.load(filepath)\n",
    "        img_data = img.get_fdata()\n",
    "        print(img_data.shape)\n",
    "#        plt.figure()\n",
    "#        plt.imshow(img_data[:, :, 50])"
   ]
  },
  {
   "cell_type": "markdown",
   "metadata": {},
   "source": [
    "이번에는 register된 brain image file의 orientation을 보기로 했다."
   ]
  },
  {
   "cell_type": "code",
   "execution_count": null,
   "metadata": {
    "scrolled": true
   },
   "outputs": [],
   "source": [
    "# orientation 출력하기\n",
    "registerDir = \"E:/Asan-meningioma_Low_grade/Registered/\"\n",
    "\n",
    "target_lst = []\n",
    "for (path, dirs, files) in os.walk(registerDir):\n",
    "    for file in files:\n",
    "        filepath = os.path.join(path, file)\n",
    "        img = nib.load(filepath)\n",
    "        img_data = img.get_fdata()\n",
    "        orientation = nib.aff2axcodes(img.affine)\n",
    "        \n",
    "        print(file, orientation)"
   ]
  },
  {
   "cell_type": "markdown",
   "metadata": {},
   "source": [
    "보니까 brain image의 orientation과 skull mask의 orientation이 일치하지 않는 경우가 있음을 발견했다. \\\n",
    "보니까 같은 경우보다 다른 경우가 더 많아서 같은 애들을 따로 모아놓고 다른 애들만 mipav로 변경할 예정."
   ]
  },
  {
   "cell_type": "code",
   "execution_count": null,
   "metadata": {
    "scrolled": true
   },
   "outputs": [],
   "source": [
    "# orientation 출력하기\n",
    "registerDir = \"E:/Asan-meningioma_Low_grade/Registered/\"\n",
    "\n",
    "target_lst = []\n",
    "for (path, dirs, files) in os.walk(registerDir):\n",
    "    for file in files:\n",
    "        filepath = os.path.join(path, file)\n",
    "        img = nib.load(filepath)\n",
    "        img_data = img.get_fdata()\n",
    "        orientation = nib.aff2axcodes(img.affine)\n",
    "        if orientation[-1] == \"S\":\n",
    "            print(file, orientation)\n",
    "            target_lst.append(file)"
   ]
  },
  {
   "cell_type": "code",
   "execution_count": null,
   "metadata": {},
   "outputs": [],
   "source": [
    "brainmask = \"E:/Asan-meningioma_Low_grade/BrainMask/\"\n",
    "destination = \"E:/Asan-meningioma_Low_grade/correct_mask/\"\n",
    "\n",
    "total = 0\n",
    "for (path, dirs, files) in os.walk(brainmask):\n",
    "    for file in files:\n",
    "        brain_file = file.split(\"_\")[0] + \"_T1CE_registered.nii\"\n",
    "        if brain_file in target_lst:\n",
    "            total += 1\n",
    "            shutil.move(os.path.join(path, file), os.path.join(destination, file))\n",
    "print(len(target_lst), total)"
   ]
  },
  {
   "cell_type": "markdown",
   "metadata": {},
   "source": [
    "근데 파일을 열어보니 header 정보와 orientation이 일치하지 않는다;; \\\n",
    "그래서 일단 'I'인 친구들을 header 바꾸지 않고 filp 시켜서 header와 실제 이미지 orientation을 일치시키고, \\\n",
    "mipav에서 그 이미지를 reorientation할 예정이다."
   ]
  },
  {
   "cell_type": "code",
   "execution_count": null,
   "metadata": {
    "scrolled": true
   },
   "outputs": [],
   "source": [
    "import nibabel as nib\n",
    "import os\n",
    "import numpy as np\n",
    "from copy import deepcopy\n",
    "\n",
    "destination = \"E:/Asan-meningioma_Low_grade/BrainMask_flipped/\"\n",
    "\n",
    "for (path, dirs, files) in os.walk(brainmask):\n",
    "    for file in files:\n",
    "        print(\"Flipping {}...\".format(file))\n",
    "        img = nib.load(os.path.join(path, file))\n",
    "        img_data = img.get_fdata()\n",
    "\n",
    "        orientation = nib.aff2axcodes(img.affine)\n",
    "        target_orientation = ('L', 'P', 'S')\n",
    "\n",
    "        # flip\n",
    "        img_flipped = np.flip(img_data, axis=2)\n",
    "\n",
    "        # reorient된 파일을 저장하려면 아래 코드를 모두 uncomment하세요.\n",
    "        ni_img = nib.Nifti1Image(img_flipped, img.affine)\n",
    "        print(\"Orientation {} is changed to {}\".format(orientation, nib.aff2axcodes(ni_img.affine)))\n",
    "        outPath = os.path.join(destination, file)\n",
    "        nib.save(ni_img, outPath)\n"
   ]
  },
  {
   "cell_type": "markdown",
   "metadata": {},
   "source": [
    "삐용삐용 문제 발생\n",
    "task 다시 정리\n",
    "\n",
    "1) Register에서 LPI인 애: 이미지는 그대로 두고 header만 LPS로 바꾸기->affine 바꾸기 \\\n",
    "2) Register에서 LPS인 애: 그대로 두기(통과) \\\n",
    "3) mask에서 LPI인 애: 없음(통과) \\\n",
    "4) maks에서 LPS인 애: 그대로 두기(통과)"
   ]
  },
  {
   "cell_type": "code",
   "execution_count": null,
   "metadata": {},
   "outputs": [],
   "source": [
    "filepath = \"E:/Asan-meningioma_Low_grade/Registered/002/002_T1CE_registered.nii\"\n",
    "destination = \"E:/Asan-meningioma_Low_grade/\"\n",
    "\n",
    "img = nib.load(filepath)\n",
    "img_data = img.get_fdata()\n",
    "\n",
    "orientation = nib.aff2axcodes(img.affine)\n",
    "target_orientation = ('L', 'P', 'S')\n",
    "\n",
    "# flip\n",
    "print(img.affine, img.affine[2])\n",
    "img.affine[2] = [-i for i in img.affine[2]]\n",
    "print(img.affine)\n",
    "# reorient된 파일을 저장하려면 아래 코드를 모두 uncomment하세요.\n",
    "ni_img = nib.Nifti1Image(img_data, img.affine)\n",
    "print(\"Orientation {} is changed to {}\".format(orientation, nib.aff2axcodes(ni_img.affine)))\n",
    "\n",
    "outPath = os.path.join(destination, \"002_T1CE_registered.nii\")\n",
    "nib.save(ni_img, outPath)\n"
   ]
  },
  {
   "cell_type": "markdown",
   "metadata": {},
   "source": [
    "affine의 z축에 -1을 곱하면 orientation이 바뀐다는걸 알았다! -> 이거 아님!!!! reorientation_final 참고할 것.\n",
    "이제 LPI인 register이미지에 적용하자."
   ]
  },
  {
   "cell_type": "code",
   "execution_count": null,
   "metadata": {
    "scrolled": true
   },
   "outputs": [],
   "source": [
    "registerDir = \"E:/Asan-meningioma_Low_grade/Registered/\"\n",
    "destination = \"E:/Asan-meningioma_Low_grade/Registered_corrected\"\n",
    "total = 0\n",
    "\n",
    "for (path, dirs, files) in os.walk(registerDir):\n",
    "    for file in files:\n",
    "        total += 1\n",
    "        pt = path.split('/')[-1]\n",
    "        img = nib.load(os.path.join(path, file))\n",
    "        img_data = img.get_fdata()\n",
    "        orientation = nib.aff2axcodes(img.affine)\n",
    "        \n",
    "        outPath = get_outpath(destination, pt, file)\n",
    "        if outPath is None:\n",
    "            continue\n",
    "\n",
    "        if 'S' in orientation:\n",
    "            print(\"#{} Copying {}...\".format(total, file))\n",
    "            shutil.copyfile(os.path.join(path, file), outPath)\n",
    "            continue\n",
    "        print(\"#{} Reorient {}...\".format(total, file))\n",
    "\n",
    "        # flip\n",
    "        img.affine[2] = [-i for i in img.affine[2]]\n",
    "        ni_img = nib.Nifti1Image(img_data, img.affine)\n",
    "        print(\"Orientation {} is changed to {}\".format(orientation, nib.aff2axcodes(ni_img.affine)))\n",
    "        nib.save(ni_img, outPath)\n"
   ]
  },
  {
   "cell_type": "markdown",
   "metadata": {},
   "source": [
    "09/10 \n",
    "\n",
    "교수님께서 orientation이 틀려도 좋으니 register 파일은 건드리지 말아달라고 하셨다. \\\n",
    "skull mask만 건드릴 예정. mipav로 reorient 해보고 affine 바뀐 걸 그대로 적용할 예정이다 \\\n",
    "(reorientation_final에서 사용한 방법과 동일.)\n"
   ]
  },
  {
   "cell_type": "code",
   "execution_count": null,
   "metadata": {},
   "outputs": [],
   "source": [
    "registerDir = \"E:/Asan-meningioma_Low_grade/Registered/\"\n",
    "maskDir = 'E:/Asan-meningioma_Low_grade/BrainMask'\n",
    "targetDir = 'E:/Asan-meningioma_Low_grade/BrainMask_corrected'\n",
    "total = 0\n",
    "\n",
    "for (path, dirs, files) in os.walk(registerDir):\n",
    "    for file in files:\n",
    "        total += 1\n",
    "        pt = path.split('/')[-1]\n",
    "        \n",
    "        img = nib.load(os.path.join(path, file))\n",
    "        img_data = img.get_fdata()\n",
    "        orientation = nib.aff2axcodes(img.affine)\n",
    "\n",
    "        maskfile = os.path.join(maskDir, pt+\"_brain_mask.nii.gz\")\n",
    "        outPath = os.path.join(targetDir, pt+\"_brain_mask.nii.gz\")\n",
    "        if os.path.exists(outPath):\n",
    "            continue\n",
    "\n",
    "        if 'S' in orientation:\n",
    "            print(\"#{} Copying {}...\".format(total, pt+\"_brain_mask.nii.gz\"))\n",
    "            shutil.copyfile(maskfile, outPath)\n",
    "            continue\n",
    "#        print(\"#{} Reorient {}...\".format(total, file))\n",
    "\n",
    "        # flip\n",
    "#        img.affine[2] = [-i for i in img.affine[2]]\n",
    "#        ni_img = nib.Nifti1Image(img_data, img.affine)\n",
    "#        print(\"Orientation {} is changed to {}\".format(orientation, nib.aff2axcodes(ni_img.affine)))\n",
    "#        nib.save(ni_img, outPath)\n"
   ]
  },
  {
   "cell_type": "markdown",
   "metadata": {},
   "source": [
    "시도 1: image를 flip 하지 않고 affine만 flip (LPS->LPI) \\\n",
    "시도 2: image를 flip 하고 affine을 flip 안함 (LPS->LPS) \\\n",
    "시도 3: image를 flip 하고 affine도 flip 함 (LPS->LPI)\n",
    "\n",
    "\n",
    "시도 1, 2 모두 성공. But 시도2는 mask 적용하면 LPI로 나오고 시도2는 mask 적용하면 LPS로 나옴. \\\n",
    "=> 시도1로 함. 만들어진 파일은 header(affine)은 LPI이고 실제는 image LPS임.mask apply도 정상적으로 됨."
   ]
  },
  {
   "cell_type": "code",
   "execution_count": null,
   "metadata": {},
   "outputs": [],
   "source": [
    "# 파일 1개 demo\n",
    "filepath = \"E:/Asan-meningioma_Low_grade/BrainMask/002_brain_mask.nii.gz\"\n",
    "path = \"E:/Asan-meningioma_Low_grade/BrainMask_corrected/\"\n",
    "file = \"002_brain_mask.nii.gz\"\n",
    "\n",
    "img = nib.load(filepath)\n",
    "\n",
    "img_data = img.get_fdata()\n",
    "affine = np.empty_like(img.affine)\n",
    "affine[:] = img.affine\n",
    "\n",
    "orientation = nib.aff2axcodes(img.affine)\n",
    "target_orientation = ('L', 'P', 'S')\n",
    "print(img.affine)\n",
    "\n",
    "# filp\n",
    "#img_flipped = np.flip(img_data, axis=2)\n",
    "affine[:,2]*=-1\n",
    "if affine[2,-1] > 0:\n",
    "    affine[2,-1] = affine[2,-1] - img_data.shape[1] + 1\n",
    "\n",
    "elif affine[2,-1] < 0:\n",
    "    affine[2,-1] = affine[2,-1] + img_data.shape[1] - 1\n",
    "    \n",
    "print(affine)\n",
    "print(\"Orientation {} is changed to {}\".format(orientation, nib.aff2axcodes(affine)))\n",
    "# reorient된 파일을 저장하려면 아래 코드를 모두 uncomment하세요.\n",
    "ni_img = nib.Nifti1Image(img_data, affine)\n",
    "outPath = os.path.join(path, file)\n",
    "nib.save(ni_img, outPath)\n",
    "print(ni_img.affine)"
   ]
  },
  {
   "cell_type": "code",
   "execution_count": null,
   "metadata": {},
   "outputs": [],
   "source": [
    "# mask 적용해보기 -> OK\n",
    "srcpath = \"E:/Asan-meningioma_Low_grade/Registered/002\"\n",
    "targetpath = \"E:/Asan-meningioma_Low_grade/\"\n",
    "maskpath = \"E:/Asan-meningioma_Low_grade/BrainMask_corrected/002_brain_mask.nii.gz\"\n",
    "\n",
    "for (path, dirs, files) in os.walk(srcpath):\n",
    "    for file in files:\n",
    "        nib_file = nib.load(os.path.join(path, file))\n",
    "        mask = nib.load(os.path.join(maskpath))\n",
    "\n",
    "        masked_data = np.multiply(nib_file.get_data(), mask.get_data())\n",
    "        masked_data = nib.Nifti1Image(masked_data, nib_file.affine, nib_file.header)\n",
    "        if not os.path.exists(os.path.join(targetpath)):\n",
    "            os.mkdir(os.path.join(targetpath))\n",
    "        outPath = os.path.join(targetpath, file)\n",
    "        nib.save(masked_data, outPath)\n"
   ]
  },
  {
   "cell_type": "code",
   "execution_count": null,
   "metadata": {
    "scrolled": true
   },
   "outputs": [],
   "source": [
    "# 파일 전체\n",
    "Srcpath = \"E:/Asan-meningioma_Low_grade/BrainMask/\"\n",
    "targetDir = \"E:/Asan-meningioma_Low_grade/BrainMask_corrected/\"\n",
    "\n",
    "for (path, dirs, files) in os.walk(Srcpath):\n",
    "    for file in files:\n",
    "        outPath = os.path.join(targetDir, file)\n",
    "        if os.path.exists(outPath):\n",
    "            print(\"{} already exists\".format(file))\n",
    "            continue\n",
    "\n",
    "        filepath = os.path.join(path, file)\n",
    "        img = nib.load(filepath)\n",
    "\n",
    "        img_data = img.get_fdata()\n",
    "        affine = np.empty_like(img.affine)\n",
    "        affine[:] = img.affine\n",
    "\n",
    "        orientation = nib.aff2axcodes(img.affine)\n",
    "        target_orientation = ('L', 'P', 'S')\n",
    "\n",
    "        # filp\n",
    "        affine[:,2]*=-1\n",
    "        if affine[2,-1] > 0:\n",
    "            affine[2,-1] = affine[2,-1] - img_data.shape[1] + 1\n",
    "\n",
    "        elif affine[2,-1] < 0:\n",
    "            affine[2,-1] = affine[2,-1] + img_data.shape[1] - 1\n",
    "\n",
    "        print(\"Orientation {} is changed to {}\".format(orientation, nib.aff2axcodes(affine)))\n",
    "        # reorient된 파일을 저장하려면 아래 코드를 모두 uncomment하세요.\n",
    "        ni_img = nib.Nifti1Image(img_data, affine)\n",
    "        nib.save(ni_img, outPath)"
   ]
  },
  {
   "cell_type": "code",
   "execution_count": null,
   "metadata": {},
   "outputs": [],
   "source": []
  }
 ],
 "metadata": {
  "kernelspec": {
   "display_name": "Python 3",
   "language": "python",
   "name": "python3"
  },
  "language_info": {
   "codemirror_mode": {
    "name": "ipython",
    "version": 3
   },
   "file_extension": ".py",
   "mimetype": "text/x-python",
   "name": "python",
   "nbconvert_exporter": "python",
   "pygments_lexer": "ipython3",
   "version": "3.7.6"
  }
 },
 "nbformat": 4,
 "nbformat_minor": 2
}
