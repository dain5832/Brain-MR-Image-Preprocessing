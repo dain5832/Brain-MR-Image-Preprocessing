{
 "cells": [
  {
   "cell_type": "markdown",
   "metadata": {},
   "source": [
    "# Reorientation\n",
    "- fsl installation required: https://fsl.fmrib.ox.ac.uk/fsl/fslwiki/FslInstallation\n",
    "- useful documents about reorientation: https://fsl.fmrib.ox.ac.uk/fsl/fslwiki/Orientation%20Explained"
   ]
  },
  {
   "cell_type": "code",
   "execution_count": 4,
   "metadata": {},
   "outputs": [
    {
     "name": "stdout",
     "output_type": "stream",
     "text": [
      "948\n"
     ]
    }
   ],
   "source": [
    "import os\n",
    "import numpy as np\n",
    "import nibabel as nib\n",
    "from glob import glob\n",
    "\n",
    "source = glob('/media/sc-mlsg/T7/Parkinson_data_copy/**/*nii*')\n",
    "print(len(source))"
   ]
  },
  {
   "cell_type": "code",
   "execution_count": 9,
   "metadata": {
    "scrolled": true
   },
   "outputs": [
    {
     "name": "stdout",
     "output_type": "stream",
     "text": [
      "1531687\n",
      "('P', 'S', 'L')\n",
      "1531687\n",
      "('P', 'S', 'L')\n",
      "1531687\n",
      "('P', 'I', 'L')\n",
      "1531687\n",
      "('P', 'I', 'L')\n",
      "1831107\n",
      "('P', 'S', 'L')\n",
      "1831107\n",
      "('P', 'S', 'L')\n",
      "1831107\n",
      "('P', 'I', 'L')\n",
      "1831107\n",
      "('P', 'I', 'L')\n",
      "2223305\n",
      "('P', 'S', 'L')\n",
      "2223305\n",
      "('P', 'S', 'L')\n",
      "2223305\n",
      "('P', 'I', 'L')\n",
      "2223305\n",
      "('P', 'I', 'L')\n",
      "2450151\n",
      "('P', 'S', 'L')\n",
      "2450151\n",
      "('P', 'I', 'L')\n",
      "2594254\n",
      "('P', 'S', 'L')\n",
      "2594254\n",
      "('P', 'S', 'L')\n",
      "2594254\n",
      "('P', 'I', 'L')\n",
      "2594254\n",
      "('P', 'I', 'L')\n",
      "2816609\n",
      "('P', 'S', 'L')\n",
      "2816609\n",
      "('P', 'I', 'L')\n",
      "2837756\n",
      "('P', 'S', 'L')\n",
      "2837756\n",
      "('P', 'S', 'L')\n",
      "2837756\n",
      "('P', 'I', 'L')\n",
      "2837756\n",
      "('P', 'I', 'L')\n",
      "2870096\n",
      "('P', 'S', 'L')\n",
      "2870096\n",
      "('P', 'S', 'L')\n",
      "2870096\n",
      "('P', 'I', 'L')\n",
      "2870096\n",
      "('P', 'I', 'L')\n",
      "2974367\n",
      "('P', 'S', 'L')\n",
      "2974367\n",
      "('P', 'S', 'L')\n",
      "2974367\n",
      "('P', 'I', 'L')\n",
      "2974367\n",
      "('P', 'I', 'L')\n",
      "3071718\n",
      "('P', 'S', 'L')\n",
      "3071718\n",
      "('P', 'S', 'L')\n",
      "3071718\n",
      "('P', 'I', 'L')\n",
      "3071718\n",
      "('P', 'I', 'L')\n",
      "3140501\n",
      "('P', 'S', 'L')\n",
      "3140501\n",
      "('P', 'I', 'L')\n",
      "3157242\n",
      "('P', 'S', 'L')\n",
      "3157242\n",
      "('P', 'S', 'L')\n",
      "3157242\n",
      "('P', 'I', 'L')\n",
      "3157242\n",
      "('P', 'I', 'L')\n",
      "3375708\n",
      "('P', 'S', 'L')\n",
      "3375708\n",
      "('P', 'S', 'L')\n",
      "3375708\n",
      "('P', 'I', 'L')\n",
      "3375708\n",
      "('P', 'I', 'L')\n",
      "3563464\n",
      "('P', 'S', 'L')\n",
      "3563464\n",
      "('P', 'I', 'L')\n",
      "5067132\n",
      "('P', 'S', 'L')\n",
      "5067132\n",
      "('P', 'S', 'L')\n",
      "5067132\n",
      "('P', 'I', 'L')\n",
      "5067132\n",
      "('P', 'I', 'L')\n",
      "5120127\n",
      "('P', 'S', 'L')\n",
      "5120127\n",
      "('P', 'S', 'L')\n",
      "5120127\n",
      "('P', 'I', 'L')\n",
      "5120127\n",
      "('P', 'I', 'L')\n",
      "5294051\n",
      "('P', 'S', 'L')\n",
      "5294051\n",
      "('P', 'S', 'L')\n",
      "5294051\n",
      "('P', 'I', 'L')\n",
      "5294051\n",
      "('P', 'I', 'L')\n",
      "5328768\n",
      "('P', 'S', 'L')\n",
      "5328768\n",
      "('P', 'S', 'L')\n",
      "5328768\n",
      "('P', 'I', 'L')\n",
      "5328768\n",
      "('P', 'I', 'L')\n",
      "5354403\n",
      "('P', 'S', 'L')\n",
      "5354403\n",
      "('P', 'I', 'L')\n",
      "5585087\n",
      "('P', 'S', 'L')\n",
      "5585087\n",
      "('P', 'I', 'L')\n"
     ]
    },
    {
     "ename": "KeyboardInterrupt",
     "evalue": "",
     "output_type": "error",
     "traceback": [
      "\u001b[0;31m---------------------------------------------------------------------------\u001b[0m",
      "\u001b[0;31mKeyboardInterrupt\u001b[0m                         Traceback (most recent call last)",
      "\u001b[0;32m<ipython-input-9-7a0af156cdff>\u001b[0m in \u001b[0;36m<module>\u001b[0;34m\u001b[0m\n\u001b[1;32m      5\u001b[0m     \u001b[0mtotal\u001b[0m\u001b[0;34m+=\u001b[0m\u001b[0;36m1\u001b[0m\u001b[0;34m\u001b[0m\u001b[0;34m\u001b[0m\u001b[0m\n\u001b[1;32m      6\u001b[0m \u001b[0;31m#    print(total,filepath)\u001b[0m\u001b[0;34m\u001b[0m\u001b[0;34m\u001b[0m\u001b[0;34m\u001b[0m\u001b[0m\n\u001b[0;32m----> 7\u001b[0;31m     \u001b[0mimg\u001b[0m \u001b[0;34m=\u001b[0m \u001b[0mnib\u001b[0m\u001b[0;34m.\u001b[0m\u001b[0mload\u001b[0m\u001b[0;34m(\u001b[0m\u001b[0mfilepath\u001b[0m\u001b[0;34m)\u001b[0m\u001b[0;34m\u001b[0m\u001b[0;34m\u001b[0m\u001b[0m\n\u001b[0m\u001b[1;32m      8\u001b[0m     \u001b[0;32mif\u001b[0m \u001b[0mnib\u001b[0m\u001b[0;34m.\u001b[0m\u001b[0maff2axcodes\u001b[0m\u001b[0;34m(\u001b[0m\u001b[0mimg\u001b[0m\u001b[0;34m.\u001b[0m\u001b[0maffine\u001b[0m\u001b[0;34m)\u001b[0m\u001b[0;34m[\u001b[0m\u001b[0;36m0\u001b[0m\u001b[0;34m]\u001b[0m \u001b[0;34m==\u001b[0m \u001b[0;34m'P'\u001b[0m\u001b[0;34m:\u001b[0m\u001b[0;34m\u001b[0m\u001b[0;34m\u001b[0m\u001b[0m\n\u001b[1;32m      9\u001b[0m         \u001b[0mprint\u001b[0m\u001b[0;34m(\u001b[0m\u001b[0mfilepath\u001b[0m\u001b[0;34m.\u001b[0m\u001b[0msplit\u001b[0m\u001b[0;34m(\u001b[0m\u001b[0mos\u001b[0m\u001b[0;34m.\u001b[0m\u001b[0mpath\u001b[0m\u001b[0;34m.\u001b[0m\u001b[0msep\u001b[0m\u001b[0;34m)\u001b[0m\u001b[0;34m[\u001b[0m\u001b[0;34m-\u001b[0m\u001b[0;36m2\u001b[0m\u001b[0;34m]\u001b[0m\u001b[0;34m)\u001b[0m\u001b[0;34m\u001b[0m\u001b[0;34m\u001b[0m\u001b[0m\n",
      "\u001b[0;32m~/anaconda3/lib/python3.7/site-packages/nibabel/loadsave.py\u001b[0m in \u001b[0;36mload\u001b[0;34m(filename, **kwargs)\u001b[0m\n\u001b[1;32m     50\u001b[0m         \u001b[0mis_valid\u001b[0m\u001b[0;34m,\u001b[0m \u001b[0msniff\u001b[0m \u001b[0;34m=\u001b[0m \u001b[0mimage_klass\u001b[0m\u001b[0;34m.\u001b[0m\u001b[0mpath_maybe_image\u001b[0m\u001b[0;34m(\u001b[0m\u001b[0mfilename\u001b[0m\u001b[0;34m,\u001b[0m \u001b[0msniff\u001b[0m\u001b[0;34m)\u001b[0m\u001b[0;34m\u001b[0m\u001b[0;34m\u001b[0m\u001b[0m\n\u001b[1;32m     51\u001b[0m         \u001b[0;32mif\u001b[0m \u001b[0mis_valid\u001b[0m\u001b[0;34m:\u001b[0m\u001b[0;34m\u001b[0m\u001b[0;34m\u001b[0m\u001b[0m\n\u001b[0;32m---> 52\u001b[0;31m             \u001b[0mimg\u001b[0m \u001b[0;34m=\u001b[0m \u001b[0mimage_klass\u001b[0m\u001b[0;34m.\u001b[0m\u001b[0mfrom_filename\u001b[0m\u001b[0;34m(\u001b[0m\u001b[0mfilename\u001b[0m\u001b[0;34m,\u001b[0m \u001b[0;34m**\u001b[0m\u001b[0mkwargs\u001b[0m\u001b[0;34m)\u001b[0m\u001b[0;34m\u001b[0m\u001b[0;34m\u001b[0m\u001b[0m\n\u001b[0m\u001b[1;32m     53\u001b[0m             \u001b[0;32mreturn\u001b[0m \u001b[0mimg\u001b[0m\u001b[0;34m\u001b[0m\u001b[0;34m\u001b[0m\u001b[0m\n\u001b[1;32m     54\u001b[0m \u001b[0;34m\u001b[0m\u001b[0m\n",
      "\u001b[0;32m~/anaconda3/lib/python3.7/site-packages/nibabel/dataobj_images.py\u001b[0m in \u001b[0;36mfrom_filename\u001b[0;34m(klass, filename, mmap, keep_file_open)\u001b[0m\n\u001b[1;32m    487\u001b[0m         \u001b[0mfile_map\u001b[0m \u001b[0;34m=\u001b[0m \u001b[0mklass\u001b[0m\u001b[0;34m.\u001b[0m\u001b[0mfilespec_to_file_map\u001b[0m\u001b[0;34m(\u001b[0m\u001b[0mfilename\u001b[0m\u001b[0;34m)\u001b[0m\u001b[0;34m\u001b[0m\u001b[0;34m\u001b[0m\u001b[0m\n\u001b[1;32m    488\u001b[0m         return klass.from_file_map(file_map, mmap=mmap,\n\u001b[0;32m--> 489\u001b[0;31m                                    keep_file_open=keep_file_open)\n\u001b[0m\u001b[1;32m    490\u001b[0m \u001b[0;34m\u001b[0m\u001b[0m\n\u001b[1;32m    491\u001b[0m     \u001b[0mload\u001b[0m \u001b[0;34m=\u001b[0m \u001b[0mfrom_filename\u001b[0m\u001b[0;34m\u001b[0m\u001b[0;34m\u001b[0m\u001b[0m\n",
      "\u001b[0;32m~/anaconda3/lib/python3.7/site-packages/nibabel/analyze.py\u001b[0m in \u001b[0;36mfrom_file_map\u001b[0;34m(klass, file_map, mmap, keep_file_open)\u001b[0m\n\u001b[1;32m    971\u001b[0m         \u001b[0mhdr_fh\u001b[0m\u001b[0;34m,\u001b[0m \u001b[0mimg_fh\u001b[0m \u001b[0;34m=\u001b[0m \u001b[0mklass\u001b[0m\u001b[0;34m.\u001b[0m\u001b[0m_get_fileholders\u001b[0m\u001b[0;34m(\u001b[0m\u001b[0mfile_map\u001b[0m\u001b[0;34m)\u001b[0m\u001b[0;34m\u001b[0m\u001b[0;34m\u001b[0m\u001b[0m\n\u001b[1;32m    972\u001b[0m         \u001b[0;32mwith\u001b[0m \u001b[0mhdr_fh\u001b[0m\u001b[0;34m.\u001b[0m\u001b[0mget_prepare_fileobj\u001b[0m\u001b[0;34m(\u001b[0m\u001b[0mmode\u001b[0m\u001b[0;34m=\u001b[0m\u001b[0;34m'rb'\u001b[0m\u001b[0;34m)\u001b[0m \u001b[0;32mas\u001b[0m \u001b[0mhdrf\u001b[0m\u001b[0;34m:\u001b[0m\u001b[0;34m\u001b[0m\u001b[0;34m\u001b[0m\u001b[0m\n\u001b[0;32m--> 973\u001b[0;31m             \u001b[0mheader\u001b[0m \u001b[0;34m=\u001b[0m \u001b[0mklass\u001b[0m\u001b[0;34m.\u001b[0m\u001b[0mheader_class\u001b[0m\u001b[0;34m.\u001b[0m\u001b[0mfrom_fileobj\u001b[0m\u001b[0;34m(\u001b[0m\u001b[0mhdrf\u001b[0m\u001b[0;34m)\u001b[0m\u001b[0;34m\u001b[0m\u001b[0;34m\u001b[0m\u001b[0m\n\u001b[0m\u001b[1;32m    974\u001b[0m         \u001b[0mhdr_copy\u001b[0m \u001b[0;34m=\u001b[0m \u001b[0mheader\u001b[0m\u001b[0;34m.\u001b[0m\u001b[0mcopy\u001b[0m\u001b[0;34m(\u001b[0m\u001b[0;34m)\u001b[0m\u001b[0;34m\u001b[0m\u001b[0;34m\u001b[0m\u001b[0m\n\u001b[1;32m    975\u001b[0m         \u001b[0mimgf\u001b[0m \u001b[0;34m=\u001b[0m \u001b[0mimg_fh\u001b[0m\u001b[0;34m.\u001b[0m\u001b[0mfileobj\u001b[0m\u001b[0;34m\u001b[0m\u001b[0;34m\u001b[0m\u001b[0m\n",
      "\u001b[0;32m~/anaconda3/lib/python3.7/site-packages/nibabel/openers.py\u001b[0m in \u001b[0;36m__exit__\u001b[0;34m(self, exc_type, exc_val, exc_tb)\u001b[0m\n\u001b[1;32m    187\u001b[0m         \u001b[0;32mreturn\u001b[0m \u001b[0mself\u001b[0m\u001b[0;34m\u001b[0m\u001b[0;34m\u001b[0m\u001b[0m\n\u001b[1;32m    188\u001b[0m \u001b[0;34m\u001b[0m\u001b[0m\n\u001b[0;32m--> 189\u001b[0;31m     \u001b[0;32mdef\u001b[0m \u001b[0m__exit__\u001b[0m\u001b[0;34m(\u001b[0m\u001b[0mself\u001b[0m\u001b[0;34m,\u001b[0m \u001b[0mexc_type\u001b[0m\u001b[0;34m,\u001b[0m \u001b[0mexc_val\u001b[0m\u001b[0;34m,\u001b[0m \u001b[0mexc_tb\u001b[0m\u001b[0;34m)\u001b[0m\u001b[0;34m:\u001b[0m\u001b[0;34m\u001b[0m\u001b[0;34m\u001b[0m\u001b[0m\n\u001b[0m\u001b[1;32m    190\u001b[0m         \u001b[0mself\u001b[0m\u001b[0;34m.\u001b[0m\u001b[0mclose_if_mine\u001b[0m\u001b[0;34m(\u001b[0m\u001b[0;34m)\u001b[0m\u001b[0;34m\u001b[0m\u001b[0;34m\u001b[0m\u001b[0m\n\u001b[1;32m    191\u001b[0m \u001b[0;34m\u001b[0m\u001b[0m\n",
      "\u001b[0;31mKeyboardInterrupt\u001b[0m: "
     ]
    }
   ],
   "source": [
    "# reorient both image and header\n",
    "total = 0\n",
    "lst = []\n",
    "for filepath in source:\n",
    "    total+=1\n",
    "#    print(total,filepath)\n",
    "    img = nib.load(filepath)\n",
    "    if nib.aff2axcodes(img.affine)[0] == 'P':\n",
    "        print(filepath.split(os.path.sep)[-2])\n",
    "        print(nib.aff2axcodes(img.affine))\n",
    "        lst.append(filepath)\n",
    "        outpath = os.path.join(os.path.dirname(filepath), os.path.basename(filepath).split('.')[0]+'_flipped.nii.gz')\n",
    "        \n",
    "        !fslswapdim {filepath} PL SP LS {outpath}\n",
    "      #  img = nib.load(outpath)\n",
    "      #  print(nib.aff2axcodes(img.affine))"
   ]
  },
  {
   "cell_type": "code",
   "execution_count": 36,
   "metadata": {
    "scrolled": true
   },
   "outputs": [
    {
     "name": "stdout",
     "output_type": "stream",
     "text": [
      "2803895_mask.nii\n",
      "('L', 'A', 'S')\n",
      "('L', 'P', 'S')\n"
     ]
    }
   ],
   "source": [
    "# temp\n",
    "total = 0\n",
    "lst = []\n",
    "for filepath in source[:8]:\n",
    "    total+=1\n",
    "#    print(total,filepath)\n",
    "    img = nib.load(filepath)\n",
    "    if nib.aff2axcodes(img.affine)[1] == 'A':\n",
    "        print(filepath.split(os.path.sep)[-1])\n",
    "        print(nib.aff2axcodes(img.affine))\n",
    "        lst.append(filepath)\n",
    "        outpath = os.path.join(os.path.dirname(filepath), os.path.basename(filepath).split('.')[0]+'_flipped.nii.gz')\n",
    "        !fslorient -swaporient {filepath}\n",
    "        !fslswapdim {filepath} RL AP IS {outpath}\n",
    "        img = nib.load(outpath)\n",
    "        print(nib.aff2axcodes(img.affine))"
   ]
  },
  {
   "cell_type": "code",
   "execution_count": 8,
   "metadata": {},
   "outputs": [
    {
     "data": {
      "text/plain": [
       "74"
      ]
     },
     "execution_count": 8,
     "metadata": {},
     "output_type": "execute_result"
    }
   ],
   "source": [
    "len(filepath)"
   ]
  },
  {
   "cell_type": "code",
   "execution_count": null,
   "metadata": {
    "scrolled": true
   },
   "outputs": [],
   "source": [
    "# reorient image only\n",
    "source = glob('/media/sc-mlsg/PYW98854602/20210104_Schizophrenia_preprocessed/**/**/**/T1.nii.gz')\n",
    "print(len(source))\n",
    "\n",
    "total = 0\n",
    "for filepath in source[:1]:\n",
    "    total += 1\n",
    "    print(total, filepath)\n",
    "    img = nib.load(filepath)\n",
    "    img_data = img.get_fdata()\n",
    "    print(nib.aff2axcodes(img.affine))\n",
    "    img_flipped = np.flip(img_data, axis=1)   \n",
    "    img_flipped = np.flip(img_flipped, axis=2)\n",
    "    img_T = img_flipped.transpose(0, 2, 1)\n",
    "    ni_img = nib.Nifti1Image(img_T, img.affine, img.header)\n",
    "    outPath = filepath\n",
    "    nib.save(ni_img, outPath)\n",
    "#    print(ni_img.affine)"
   ]
  },
  {
   "cell_type": "code",
   "execution_count": null,
   "metadata": {},
   "outputs": [],
   "source": []
  }
 ],
 "metadata": {
  "kernelspec": {
   "display_name": "Python 3",
   "language": "python",
   "name": "python3"
  },
  "language_info": {
   "codemirror_mode": {
    "name": "ipython",
    "version": 3
   },
   "file_extension": ".py",
   "mimetype": "text/x-python",
   "name": "python",
   "nbconvert_exporter": "python",
   "pygments_lexer": "ipython3",
   "version": "3.7.6"
  }
 },
 "nbformat": 4,
 "nbformat_minor": 4
}
