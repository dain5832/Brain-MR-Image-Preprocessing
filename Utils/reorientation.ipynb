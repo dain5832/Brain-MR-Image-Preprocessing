{
 "cells": [
  {
   "cell_type": "markdown",
   "metadata": {},
   "source": [
    "# Reorientation\n",
    "- fsl installation required: https://fsl.fmrib.ox.ac.uk/fsl/fslwiki/FslInstallation\n",
    "- useful documents about reorientation: https://fsl.fmrib.ox.ac.uk/fsl/fslwiki/Orientation%20Explained"
   ]
  },
  {
   "cell_type": "code",
   "execution_count": null,
   "metadata": {},
   "outputs": [],
   "source": [
    "import os\n",
    "import nibabel as nib\n",
    "from glob import glob\n",
    "\n",
    "source = glob('/media/sc-mlsg/PYW98854602/20210104_Schizophrenia/**/**/T1.nii')\n",
    "print(len(source))"
   ]
  },
  {
   "cell_type": "code",
   "execution_count": null,
   "metadata": {
    "scrolled": true
   },
   "outputs": [],
   "source": [
    "# check if the orientation is same for all patients\n",
    "total = 0\n",
    "for filepath in source:\n",
    "    total+=1\n",
    "    print(total,filepath)\n",
    "    img = nib.load(filepath)\n",
    "    print(nib.aff2axcodes(img.affine))\n",
    "    outpath = os.path.join(os.path.dirname(filepath), os.path.basename(filepath).split('.')[0]+'.nii.gz')\n",
    "    !fslswapdim {filepath} RL PA IS {outpath}\n",
    "    img = nib.load(outpath)\n",
    "    print(nib.aff2axcodes(img.affine))"
   ]
  }
 ],
 "metadata": {
  "kernelspec": {
   "display_name": "Python 3",
   "language": "python",
   "name": "python3"
  },
  "language_info": {
   "codemirror_mode": {
    "name": "ipython",
    "version": 3
   },
   "file_extension": ".py",
   "mimetype": "text/x-python",
   "name": "python",
   "nbconvert_exporter": "python",
   "pygments_lexer": "ipython3",
   "version": "3.7.6"
  }
 },
 "nbformat": 4,
 "nbformat_minor": 4
}
