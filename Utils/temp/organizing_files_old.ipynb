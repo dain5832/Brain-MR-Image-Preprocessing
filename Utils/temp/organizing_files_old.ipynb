{
 "cells": [
  {
   "cell_type": "markdown",
   "metadata": {},
   "source": [
    "# Organizing files"
   ]
  },
  {
   "cell_type": "markdown",
   "metadata": {},
   "source": [
    "## Copy folders and files"
   ]
  },
  {
   "cell_type": "code",
   "execution_count": null,
   "metadata": {},
   "outputs": [],
   "source": [
    "######### Copy folders and files#########\n",
    "\n",
    "import os\n",
    "import shutil\n",
    "\n",
    "# Set the names of input and output paths ##############################################\n",
    "path_tuple = ('/media/scmlsg/easystore/GBMsurv_PCJ_nii')  # A folder containing files.#\n",
    "destination = '/media/scmlsg/easystore/BrainMRI-RawData/BrainMRI-Severance/SEV_bMRI_nifti'  # A folder that tranformed nifti files will be saved.\n",
    "########################################################################################"
   ]
  },
  {
   "cell_type": "code",
   "execution_count": null,
   "metadata": {
    "scrolled": true
   },
   "outputs": [],
   "source": [
    "for path in path_tuple:\n",
    "    source_lst = os.listdir(path)\n",
    "    for (i, source) in enumerate(source_lst):\n",
    "        print(\"[INFO] copying {} : {} / {} , filename:{}...\".format(path, i + 1, len(source_lst), source))\n",
    "        if not os.path.exists(destination + '/' + source):\n",
    "            shutil.copytree(path + '/' + source, destination + '/' + source)\n",
    "        else:\n",
    "            file_lst = os.listdir(path + '/' + source)\n",
    "            for file in file_lst:\n",
    "                if not os.path.isfile(destination + '/' + source + file):\n",
    "                    shutil.copyfile(path + '/' + source + '/' + file,\n",
    "                               destination + '/' + source + '/' + file)\n",
    "                else:\n",
    "                    print(\"File already exists, Filename: {}\".format(file))\n",
    "                    pass\n",
    "\n",
    "print(\"[INFO] task completed\")"
   ]
  },
  {
   "cell_type": "markdown",
   "metadata": {},
   "source": [
    "## Copy specific folders(files) using csv file"
   ]
  },
  {
   "cell_type": "code",
   "execution_count": null,
   "metadata": {},
   "outputs": [],
   "source": [
    "######### Copying#########\n",
    "\n",
    "import os\n",
    "import shutil\n",
    "import csv\n",
    "\n",
    "# Set the names of input and output paths ##############################################\n",
    "in_path = '/media/scmlsg/easystore/BrainMRI-RawData/BrainMRI-Severance/SEV_bMRI_nifti'  # A folder containing files.#\n",
    "destination = '/media/scmlsg/SC-PHDD1/added_list'  # A folder that tranformed nifti files will be saved.\n",
    "########################################################################################\n"
   ]
  },
  {
   "cell_type": "code",
   "execution_count": null,
   "metadata": {},
   "outputs": [],
   "source": [
    "#load csv file which contains the name of folders\n",
    "nrn_lst = []\n",
    "f = open(\"/media/scmlsg/SC-PHDD1/added_list.csv\")\n",
    "readcsv = csv.reader(f)\n",
    "for row in readcsv:\n",
    "    nrn_lst.append(row[0])\n",
    "nrn_lst"
   ]
  },
  {
   "cell_type": "code",
   "execution_count": null,
   "metadata": {
    "scrolled": true
   },
   "outputs": [],
   "source": [
    "source_lst = os.listdir(in_path)\n",
    "file_not_exist = []\n",
    "for (i, nrn) in enumerate(nrn_lst):\n",
    "    print(\"[INFO] copying: {} / {} , filename:{}...\".format(i + 1, len(nrn_lst), nrn))\n",
    "    if nrn in source_lst:\n",
    "        if not os.path.exists(destination + '/' + nrn):\n",
    "            shutil.copytree(in_path + '/' + nrn, destination + '/' + nrn)\n",
    "        else:\n",
    "            print(\"File already exists, Filename: {}\".format(nrn))\n",
    "    else:\n",
    "        print(\"file does not exist in in_path\")\n",
    "        file_not_exist.append(nrn)\n",
    "\n",
    "print(\"[INFO] task completed\")\n",
    "print(file_not_exist)"
   ]
  },
  {
   "cell_type": "code",
   "execution_count": null,
   "metadata": {
    "scrolled": true
   },
   "outputs": [],
   "source": [
    "path_tuple = ('/media/scmlsg/easystore/bMRI_to_be_added_nii', \n",
    "             '/media/scmlsg/easystore/GBMsurv_PCJ_nii',\n",
    "             '/media/scmlsg/easystore/NewTask20200506/20200429_FROM_KHS',\n",
    "             '/media/scmlsg/easystore/NewTask20200506/GBMdicom_nii'\n",
    "             )\n",
    "for x in file_not_exist:\n",
    "    print('##############',x,'################')\n",
    "    for p in path_tuple:\n",
    "        if x in os.listdir(p):\n",
    "            print(x, p)\n",
    "        else:\n",
    "            print(\"file not exists\")"
   ]
  },
  {
   "cell_type": "markdown",
   "metadata": {},
   "source": [
    "## Organize directory(create nrn folder)"
   ]
  },
  {
   "cell_type": "code",
   "execution_count": null,
   "metadata": {},
   "outputs": [],
   "source": [
    "import os\n",
    "import shutil\n",
    "\n",
    "# Set the names of input and output paths ##############################################\n",
    "in_path = '/media/scmlsg/SC-PHDD1/Meningioma/Ewha/Nii_files'  # A folder containing files.#\n",
    "#out_path = 'E:/bMRI_to_be_added_nii'  # A folder that tranformed nifti files will be saved.\n",
    "########################################################################################"
   ]
  },
  {
   "cell_type": "code",
   "execution_count": null,
   "metadata": {
    "scrolled": true
   },
   "outputs": [],
   "source": [
    "file_lst = os.listdir(in_path)\n",
    "for (i, file) in enumerate(file_lst):\n",
    "    print(\"[INFO] {} : {} / {} , filename:{}...\".format(in_path, i + 1, len(file_lst), file))\n",
    "    nrn = file.split(\"_\")[0]\n",
    "    dirPath = os.path.join(in_path, nrn)\n",
    "    if not os.path.exists(dirPath):\n",
    "        os.mkdir(dirPath)\n",
    "\n",
    "    if not os.path.isfile(os.path.join(dirPath, file)):\n",
    "        shutil.copyfile(os.path.join(in_path, file),\n",
    "                   os.path.join(dirPath, file))\n",
    "    else:\n",
    "        print(\"File already exists, Filename: {}\".format(file))\n",
    "        pass\n",
    "\n",
    "print(\"[INFO] task completed\")"
   ]
  },
  {
   "cell_type": "markdown",
   "metadata": {},
   "source": [
    "# Change filename"
   ]
  },
  {
   "cell_type": "code",
   "execution_count": null,
   "metadata": {},
   "outputs": [],
   "source": [
    "import os\n",
    "import shutil\n",
    "import pandas as pd\n",
    "\n",
    "# Set the names of input and output paths ##############################################\n",
    "in_path = 'E:\\BrainMRI-RawData\\BrainMRI-Severance\\SEV_bMRI_nifti'  # A folder containing files.#\n",
    "#out_path = 'E:/bMRI_to_be_added_nii'  # A folder that tranformed nifti files will be saved.\n",
    "########################################################################################"
   ]
  },
  {
   "cell_type": "code",
   "execution_count": null,
   "metadata": {},
   "outputs": [],
   "source": [
    "### code to get sequence names from in_path ###\n",
    "# find unique sequence name\n",
    "seq_lst = []\n",
    "nrn_lst = os.listdir(in_path)\n",
    "\n",
    "for nrn in nrn_lst:\n",
    "    nrn_seq_lst = os.listdir(in_path + \"/\" + nrn)\n",
    "    for (i, seq) in enumerate(nrn_seq_lst):\n",
    "        nrn_seq_lst[i] = \"_\".join(seq.split('_')[1:])\n",
    "    seq_lst += nrn_seq_lst\n",
    "    seq_lst = sorted(list(set(seq_lst)))\n",
    "\n",
    "# exclude cor and sag sequences\n",
    "cor_or_sag = []\n",
    "for seq in seq_lst[:]:\n",
    "    if \"COR\" in seq.upper() or \"SAG\" in seq.upper():\n",
    "        cor_or_sag.append(seq)\n",
    "        seq_lst.remove(seq)\n",
    "\n",
    "seq_lst\n",
    "# classify sequences -> for loop 하나로 통일하기\n",
    "T1 = [x for x in seq_lst if \"T1\" in x.upper() and \"GD\" not in x.upper()]\n",
    "T1_GD = [x for x in seq_lst if \"T1\" in x.upper() and \"GD\" in x.upper()]\n",
    "FLAIR = [x for x in seq_lst if \"FLAIR\" in x.upper()]\n",
    "T2 = [x for x in seq_lst if \"T2\" in x.upper() and x not in FLAIR]\n",
    "ADC = [x for x in seq_lst if \"DDWI\" in x.upper() or \"DDTI\" in x.upper() or \"ADC\" in x.upper()]\n",
    "not_included = [x for x in seq_lst if x not in T1 + T1_GD + FLAIR + T2 + ADC]"
   ]
  },
  {
   "cell_type": "code",
   "execution_count": null,
   "metadata": {},
   "outputs": [],
   "source": [
    "# save into csv file\n",
    "df = pd.DataFrame([T1, T1_GD, FLAIR, T2, ADC, not_included]).T\n",
    "\n",
    "df.to_csv(\"E:/sequence2.csv\", header = [\"T1\", \"T1_GD\", \"FLAIR\", \"T2\", \"ADC\", \"not_included\"])"
   ]
  },
  {
   "cell_type": "code",
   "execution_count": null,
   "metadata": {},
   "outputs": [],
   "source": [
    "seq_dict = {\n",
    "    \"T1\": [\"T1_AX\", \"T1W_AX\"],\n",
    "    \"T1_GD\": T1_GD + [\"3D_T1_BB_MSDE_AX_F_GD\", \"3D_T1_BB_iMSDE_AX_F_GD\",\n",
    "            \"T1_Ax_GD\", \"3D_AX_GD\", \"3D_T1_TFE_AX_GD\", \"3D_T1_TFE_AX_F_GD\", \"MPR3D_AX\", \"T1W_AX_GD\"],\n",
    "    \"T2\": [\"T2_AX\", \"T2W_AX\", \"AX_T2\", \"t2_tse_ax\"],\n",
    "    \"FLAIR\": FLAIR\n",
    "}\n",
    "\n",
    "#seq_dict = dict([(\"T1\", T1), (\"T1_GD\", T1_GD), (\"T2\", T2), (\"FLAIR\", FLAIR), (\"ADC\", ADC)])\n",
    "\n",
    "def get_sequence(filename):\n",
    "    filename = \"_\".join(filename.split('.')[0].split('_')[1:])\n",
    "    if filename in not_included + cor_or_sag:\n",
    "        return None\n",
    "    else:\n",
    "        for seq_label, value in seq_dict.items():\n",
    "            if filename in value:\n",
    "                return seq_label"
   ]
  }
 ],
 "metadata": {
  "kernelspec": {
   "display_name": "Python 3",
   "language": "python",
   "name": "python3"
  },
  "language_info": {
   "codemirror_mode": {
    "name": "ipython",
    "version": 3
   },
   "file_extension": ".py",
   "mimetype": "text/x-python",
   "name": "python",
   "nbconvert_exporter": "python",
   "pygments_lexer": "ipython3",
   "version": "3.7.6"
  }
 },
 "nbformat": 4,
 "nbformat_minor": 4
}
