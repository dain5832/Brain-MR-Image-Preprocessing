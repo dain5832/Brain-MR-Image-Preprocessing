{
 "cells": [
  {
   "cell_type": "markdown",
   "metadata": {},
   "source": [
    "## feature extraction\n",
    "\n",
    "brain 폴더 안에 각 환자별로 brainimage가 있고, mask 폴더 안에 각 환자별로 mask가 있다. \\\n",
    "brain image m개와 mask n개를 조합하여 각 brain_image-mask쌍에 대해 feature extraction하기 => itertools의 product이용\n",
    "\n",
    "feature를 extract하여 각 환자가 row에 각 feature가 column에 오도록 csv파일로 뽑아내기"
   ]
  },
  {
   "cell_type": "code",
   "execution_count": 7,
   "metadata": {
    "colab": {
     "base_uri": "https://localhost:8080/",
     "height": 485
    },
    "executionInfo": {
     "elapsed": 15162,
     "status": "ok",
     "timestamp": 1599735842685,
     "user": {
      "displayName": "‍최동민(학부학생/공과대학 컴퓨터과학)",
      "photoUrl": "",
      "userId": "05461671858809977056"
     },
     "user_tz": -540
    },
    "id": "eA1CVxlXyp83",
    "outputId": "f6a2aa98-e7ab-4202-eb0c-69b546b9ad02",
    "scrolled": true
   },
   "outputs": [
    {
     "name": "stdout",
     "output_type": "stream",
     "text": [
      "Requirement already satisfied: SimpleITK in /home/sc-mlsg/anaconda3/lib/python3.7/site-packages (2.0.1)\n",
      "Requirement already satisfied: pyradiomics in /home/sc-mlsg/anaconda3/lib/python3.7/site-packages/pyradiomics-3.0.1.post3+g0c53d1d-py3.7-linux-x86_64.egg (3.0.1.post3+g0c53d1d)\n",
      "Requirement already satisfied: numpy>=1.9.2 in /home/sc-mlsg/anaconda3/lib/python3.7/site-packages (from pyradiomics) (1.18.1)\n",
      "Requirement already satisfied: SimpleITK>=0.9.1 in /home/sc-mlsg/anaconda3/lib/python3.7/site-packages (from pyradiomics) (2.0.1)\n",
      "Requirement already satisfied: PyWavelets>=0.4.0 in /home/sc-mlsg/anaconda3/lib/python3.7/site-packages (from pyradiomics) (1.1.1)\n",
      "Requirement already satisfied: pykwalify>=1.6.0 in /home/sc-mlsg/anaconda3/lib/python3.7/site-packages (from pyradiomics) (1.7.0)\n",
      "Requirement already satisfied: six>=1.10.0 in /home/sc-mlsg/anaconda3/lib/python3.7/site-packages (from pyradiomics) (1.14.0)\n",
      "Requirement already satisfied: docopt>=0.6.2 in /home/sc-mlsg/anaconda3/lib/python3.7/site-packages (from pykwalify>=1.6.0->pyradiomics) (0.6.2)\n",
      "Requirement already satisfied: PyYAML>=3.11 in /home/sc-mlsg/anaconda3/lib/python3.7/site-packages (from pykwalify>=1.6.0->pyradiomics) (5.3)\n",
      "Requirement already satisfied: python-dateutil>=2.4.2 in /home/sc-mlsg/anaconda3/lib/python3.7/site-packages (from pykwalify>=1.6.0->pyradiomics) (2.8.1)\n"
     ]
    }
   ],
   "source": [
    "!pip install SimpleITK\n",
    "!pip install pyradiomics"
   ]
  },
  {
   "cell_type": "code",
   "execution_count": 1,
   "metadata": {
    "id": "kOqzJv-WypmO"
   },
   "outputs": [],
   "source": [
    "from glob import glob\n",
    "import SimpleITK as sitk\n",
    "import os\n",
    "import numpy as np\n",
    "from tqdm import tqdm\n",
    "import matplotlib.pyplot as plt\n",
    "from shutil import move\n",
    "from itertools import product\n",
    "import pandas as pd"
   ]
  },
  {
   "cell_type": "code",
   "execution_count": 2,
   "metadata": {
    "id": "4qtgFCpOyxba"
   },
   "outputs": [],
   "source": [
    "in_path = '/media/sc-mlsg/DATA2/Perfusion_study_radiomics_preprocessed/05_Stripped_znormalized/'\n",
    "outpath = '/media/sc-mlsg/DATA2/Perfusion_study_radiomics_preprocessed/'\n",
    "maskDir = '/media/sc-mlsg/DATA2/Perfusion_study_radiomics_preprocessed/00_Tumor_masks_resampled/'"
   ]
  },
  {
   "cell_type": "code",
   "execution_count": 3,
   "metadata": {},
   "outputs": [
    {
     "name": "stdout",
     "output_type": "stream",
     "text": [
      "/media/sc-mlsg/DATA2/Perfusion_study_radiomics_preprocessed/05_Stripped_znormalized/ ['2034571', '2803895', '2826490', '2917442', '3387356', '3441152', '3579055', '3621229', '4199579', '4331755', '4413737', '5096558', '5588560', '5792723', '5843358', '6291624', '6645678', '6659190', '6673952', '6715199', '6776630', '6847146', '7471985', '7522152', '7547026', '7553272', '7644780', '7707348', '7711873', '7716992', '7741219', '7746738', '7753977', '7760652', '7767219', '7777703', '7781243', '7783083', '7808217', '7809569', '7816559', '7820534', '7826770', '7842502', '7845251', '7865431', '7871704', '7892450', '7898233', '7921035', '7922825', '7926232', '7938576', '7946503', '7947384', '7955082', '7968300', '7971571', '7973273', '8002014', '8011358', '8011880', '8018918', '8044835', '8051568', '8052811', '8060512', '8064434', '8072260', '8074420', '8077298', '8078358', '8082756', '8083396', '8089351', '8097929', '8101370', '8125034', '8170673', '8190372', '8224960', '8229739', '8235696', '8268889', '8367857', '8450356', '8463790', '8481377', '8483143', '8484226', '8485609', '8489830', '8491797', '8491887', '8494094', '8513671', '8518093', '8527924', '8529533', '8532530', '8536936', '8549991', '8562189', '6830738', '7821391', '8037487', '8256132', '8566583', '8568702', '8571328', '8588494', '8591024', '8595211', '8604413', '8630035', '8633978', '8640861', '8647046', '8651745', '8662383', '8664725', '8665561', '8695364', '8712859', '8736560', '8737593', '8739559', '8747465', '8784152', '8785065', '8795827', '8798832', '9111662'] []\n",
      "/media/sc-mlsg/DATA2/Perfusion_study_radiomics_preprocessed/05_Stripped_znormalized/2034571 [] ['.fuse_hidden00002d91000140d1', '2034571_ADC_stripped.nii.gz', '2034571_ADC_stripped_znormed.nii.gz', '2034571_FLAIR_stripped_znormed.nii.gz', '2034571_T1GD_stripped_znormed.nii.gz']\n",
      "/media/sc-mlsg/DATA2/Perfusion_study_radiomics_preprocessed/05_Stripped_znormalized/2803895 [] ['2803895_ADC_stripped.nii.gz', '2803895_ADC_stripped_znormed.nii.gz', '2803895_FLAIR_stripped_znormed.nii.gz', '2803895_T1GD_stripped_znormed.nii.gz']\n",
      "/media/sc-mlsg/DATA2/Perfusion_study_radiomics_preprocessed/05_Stripped_znormalized/2826490 [] ['2826490_ADC_stripped.nii.gz', '2826490_ADC_stripped_znormed.nii.gz', '2826490_FLAIR_stripped_znormed.nii.gz', '2826490_T1GD_stripped_znormed.nii.gz']\n",
      "/media/sc-mlsg/DATA2/Perfusion_study_radiomics_preprocessed/05_Stripped_znormalized/2917442 [] ['2917442_ADC_stripped.nii.gz', '2917442_ADC_stripped_znormed.nii.gz', '2917442_FLAIR_stripped_znormed.nii.gz', '2917442_T1GD_stripped_znormed.nii.gz']\n",
      "/media/sc-mlsg/DATA2/Perfusion_study_radiomics_preprocessed/05_Stripped_znormalized/3387356 [] ['3387356_ADC_stripped.nii.gz', '3387356_ADC_stripped_znormed.nii.gz', '3387356_FLAIR_stripped_znormed.nii.gz', '3387356_T1GD_stripped_znormed.nii.gz']\n",
      "/media/sc-mlsg/DATA2/Perfusion_study_radiomics_preprocessed/05_Stripped_znormalized/3441152 [] ['3441152_ADC_stripped.nii.gz', '3441152_ADC_stripped_znormed.nii.gz', '3441152_FLAIR_stripped_znormed.nii.gz', '3441152_T1GD_stripped_znormed.nii.gz']\n",
      "/media/sc-mlsg/DATA2/Perfusion_study_radiomics_preprocessed/05_Stripped_znormalized/3579055 [] ['3579055_ADC_stripped.nii.gz', '3579055_ADC_stripped_znormed.nii.gz', '3579055_FLAIR_stripped_znormed.nii.gz', '3579055_T1GD_stripped_znormed.nii.gz']\n",
      "/media/sc-mlsg/DATA2/Perfusion_study_radiomics_preprocessed/05_Stripped_znormalized/3621229 [] ['3621229_ADC_stripped.nii.gz', '3621229_ADC_stripped_znormed.nii.gz', '3621229_FLAIR_stripped_znormed.nii.gz', '3621229_T1GD_stripped_znormed.nii.gz']\n",
      "/media/sc-mlsg/DATA2/Perfusion_study_radiomics_preprocessed/05_Stripped_znormalized/4199579 [] ['4199579_ADC_stripped.nii.gz', '4199579_ADC_stripped_znormed.nii.gz', '4199579_FLAIR_stripped_znormed.nii.gz', '4199579_T1GD_stripped_znormed.nii.gz']\n",
      "/media/sc-mlsg/DATA2/Perfusion_study_radiomics_preprocessed/05_Stripped_znormalized/4331755 [] ['4331755_ADC_stripped.nii.gz', '4331755_ADC_stripped_znormed.nii.gz', '4331755_FLAIR_stripped_znormed.nii.gz', '4331755_T1GD_stripped_znormed.nii.gz']\n",
      "/media/sc-mlsg/DATA2/Perfusion_study_radiomics_preprocessed/05_Stripped_znormalized/4413737 [] ['4413737_ADC_stripped.nii.gz', '4413737_ADC_stripped_znormed.nii.gz', '4413737_FLAIR_stripped_znormed.nii.gz', '4413737_T1GD_stripped_znormed.nii.gz']\n",
      "/media/sc-mlsg/DATA2/Perfusion_study_radiomics_preprocessed/05_Stripped_znormalized/5096558 [] ['5096558_ADC_stripped.nii.gz', '5096558_ADC_stripped_znormed.nii.gz', '5096558_FLAIR_stripped_znormed.nii.gz', '5096558_T1GD_stripped_znormed.nii.gz']\n",
      "/media/sc-mlsg/DATA2/Perfusion_study_radiomics_preprocessed/05_Stripped_znormalized/5588560 [] ['5588560_ADC_stripped.nii.gz', '5588560_ADC_stripped_znormed.nii.gz', '5588560_FLAIR_stripped_znormed.nii.gz', '5588560_T1GD_stripped_znormed.nii.gz']\n",
      "/media/sc-mlsg/DATA2/Perfusion_study_radiomics_preprocessed/05_Stripped_znormalized/5792723 [] ['5792723_ADC_stripped.nii.gz', '5792723_ADC_stripped_znormed.nii.gz', '5792723_FLAIR_stripped_znormed.nii.gz', '5792723_T1GD_stripped_znormed.nii.gz']\n",
      "/media/sc-mlsg/DATA2/Perfusion_study_radiomics_preprocessed/05_Stripped_znormalized/5843358 [] ['5843358_ADC_stripped.nii.gz', '5843358_ADC_stripped_znormed.nii.gz', '5843358_FLAIR_stripped_znormed.nii.gz', '5843358_T1GD_stripped_znormed.nii.gz']\n",
      "/media/sc-mlsg/DATA2/Perfusion_study_radiomics_preprocessed/05_Stripped_znormalized/6291624 [] ['6291624_ADC_stripped.nii.gz', '6291624_ADC_stripped_znormed.nii.gz', '6291624_FLAIR_stripped_znormed.nii.gz', '6291624_T1GD_stripped_znormed.nii.gz']\n",
      "/media/sc-mlsg/DATA2/Perfusion_study_radiomics_preprocessed/05_Stripped_znormalized/6645678 [] ['6645678_ADC_stripped.nii.gz', '6645678_ADC_stripped_znormed.nii.gz', '6645678_FLAIR_stripped_znormed.nii.gz', '6645678_T1GD_stripped_znormed.nii.gz']\n",
      "/media/sc-mlsg/DATA2/Perfusion_study_radiomics_preprocessed/05_Stripped_znormalized/6659190 [] ['6659190_ADC_stripped.nii.gz', '6659190_ADC_stripped_znormed.nii.gz', '6659190_FLAIR_stripped_znormed.nii.gz', '6659190_T1GD_stripped_znormed.nii.gz']\n",
      "/media/sc-mlsg/DATA2/Perfusion_study_radiomics_preprocessed/05_Stripped_znormalized/6673952 [] ['6673952_ADC_stripped.nii.gz', '6673952_ADC_stripped_znormed.nii.gz', '6673952_FLAIR_stripped_znormed.nii.gz', '6673952_T1GD_stripped_znormed.nii.gz']\n",
      "/media/sc-mlsg/DATA2/Perfusion_study_radiomics_preprocessed/05_Stripped_znormalized/6715199 [] ['6715199_ADC_stripped.nii.gz', '6715199_ADC_stripped_znormed.nii.gz', '6715199_FLAIR_stripped_znormed.nii.gz', '6715199_T1GD_stripped_znormed.nii.gz']\n",
      "/media/sc-mlsg/DATA2/Perfusion_study_radiomics_preprocessed/05_Stripped_znormalized/6776630 [] ['6776630_ADC_stripped.nii.gz', '6776630_ADC_stripped_znormed.nii.gz', '6776630_FLAIR_stripped_znormed.nii.gz', '6776630_T1GD_stripped_znormed.nii.gz']\n",
      "/media/sc-mlsg/DATA2/Perfusion_study_radiomics_preprocessed/05_Stripped_znormalized/6847146 [] ['6847146_ADC_stripped.nii.gz', '6847146_ADC_stripped_znormed.nii.gz', '6847146_FLAIR_stripped_znormed.nii.gz', '6847146_T1GD_stripped_znormed.nii.gz']\n",
      "/media/sc-mlsg/DATA2/Perfusion_study_radiomics_preprocessed/05_Stripped_znormalized/7471985 [] ['7471985_ADC_stripped.nii.gz', '7471985_ADC_stripped_znormed.nii.gz', '7471985_FLAIR_stripped_znormed.nii.gz', '7471985_T1GD_stripped_znormed.nii.gz']\n",
      "/media/sc-mlsg/DATA2/Perfusion_study_radiomics_preprocessed/05_Stripped_znormalized/7522152 [] ['7522152_ADC_stripped.nii.gz', '7522152_ADC_stripped_znormed.nii.gz', '7522152_FLAIR_stripped_znormed.nii.gz', '7522152_T1GD_stripped_znormed.nii.gz']\n",
      "/media/sc-mlsg/DATA2/Perfusion_study_radiomics_preprocessed/05_Stripped_znormalized/7547026 [] ['7547026_ADC_stripped.nii.gz', '7547026_ADC_stripped_znormed.nii.gz', '7547026_FLAIR_stripped_znormed.nii.gz', '7547026_T1GD_stripped_znormed.nii.gz']\n",
      "/media/sc-mlsg/DATA2/Perfusion_study_radiomics_preprocessed/05_Stripped_znormalized/7553272 [] ['7553272_ADC_stripped.nii.gz', '7553272_ADC_stripped_znormed.nii.gz', '7553272_FLAIR_stripped_znormed.nii.gz', '7553272_T1GD_stripped_znormed.nii.gz']\n",
      "/media/sc-mlsg/DATA2/Perfusion_study_radiomics_preprocessed/05_Stripped_znormalized/7644780 [] ['7644780_ADC_stripped.nii.gz', '7644780_ADC_stripped_znormed.nii.gz', '7644780_FLAIR_stripped_znormed.nii.gz', '7644780_T1GD_stripped_znormed.nii.gz']\n",
      "/media/sc-mlsg/DATA2/Perfusion_study_radiomics_preprocessed/05_Stripped_znormalized/7707348 [] ['7707348_ADC_stripped.nii.gz', '7707348_ADC_stripped_znormed.nii.gz', '7707348_FLAIR_stripped_znormed.nii.gz', '7707348_T1GD_stripped_znormed.nii.gz']\n",
      "/media/sc-mlsg/DATA2/Perfusion_study_radiomics_preprocessed/05_Stripped_znormalized/7711873 [] ['7711873_ADC_stripped.nii.gz', '7711873_ADC_stripped_znormed.nii.gz', '7711873_FLAIR_stripped_znormed.nii.gz', '7711873_T1GD_stripped_znormed.nii.gz']\n",
      "/media/sc-mlsg/DATA2/Perfusion_study_radiomics_preprocessed/05_Stripped_znormalized/7716992 [] ['7716992_ADC_stripped.nii.gz', '7716992_ADC_stripped_znormed.nii.gz', '7716992_FLAIR_stripped_znormed.nii.gz', '7716992_T1GD_stripped_znormed.nii.gz']\n",
      "/media/sc-mlsg/DATA2/Perfusion_study_radiomics_preprocessed/05_Stripped_znormalized/7741219 [] ['7741219_ADC_stripped.nii.gz', '7741219_ADC_stripped_znormed.nii.gz', '7741219_FLAIR_stripped_znormed.nii.gz', '7741219_T1GD_stripped_znormed.nii.gz']\n",
      "/media/sc-mlsg/DATA2/Perfusion_study_radiomics_preprocessed/05_Stripped_znormalized/7746738 [] ['7746738_ADC_stripped.nii.gz', '7746738_ADC_stripped_znormed.nii.gz', '7746738_FLAIR_stripped_znormed.nii.gz', '7746738_T1GD_stripped_znormed.nii.gz']\n",
      "/media/sc-mlsg/DATA2/Perfusion_study_radiomics_preprocessed/05_Stripped_znormalized/7753977 [] ['7753977_ADC_stripped.nii.gz', '7753977_ADC_stripped_znormed.nii.gz', '7753977_FLAIR_stripped_znormed.nii.gz', '7753977_T1GD_stripped_znormed.nii.gz']\n",
      "/media/sc-mlsg/DATA2/Perfusion_study_radiomics_preprocessed/05_Stripped_znormalized/7760652 [] ['7760652_ADC_stripped.nii.gz', '7760652_ADC_stripped_znormed.nii.gz', '7760652_FLAIR_stripped_znormed.nii.gz', '7760652_T1GD_stripped_znormed.nii.gz']\n",
      "/media/sc-mlsg/DATA2/Perfusion_study_radiomics_preprocessed/05_Stripped_znormalized/7767219 [] ['7767219_ADC_stripped.nii.gz', '7767219_ADC_stripped_znormed.nii.gz', '7767219_FLAIR_stripped_znormed.nii.gz', '7767219_T1GD_stripped_znormed.nii.gz']\n",
      "/media/sc-mlsg/DATA2/Perfusion_study_radiomics_preprocessed/05_Stripped_znormalized/7777703 [] ['7777703_ADC_stripped.nii.gz', '7777703_ADC_stripped_znormed.nii.gz', '7777703_FLAIR_stripped_znormed.nii.gz', '7777703_T1GD_stripped_znormed.nii.gz']\n",
      "/media/sc-mlsg/DATA2/Perfusion_study_radiomics_preprocessed/05_Stripped_znormalized/7781243 [] ['7781243_ADC_stripped.nii.gz', '7781243_ADC_stripped_znormed.nii.gz', '7781243_FLAIR_stripped_znormed.nii.gz', '7781243_T1GD_stripped_znormed.nii.gz']\n",
      "/media/sc-mlsg/DATA2/Perfusion_study_radiomics_preprocessed/05_Stripped_znormalized/7783083 [] ['7783083_ADC_stripped.nii.gz', '7783083_ADC_stripped_znormed.nii.gz', '7783083_FLAIR_stripped_znormed.nii.gz', '7783083_T1GD_stripped_znormed.nii.gz']\n",
      "/media/sc-mlsg/DATA2/Perfusion_study_radiomics_preprocessed/05_Stripped_znormalized/7808217 [] ['7808217_ADC_stripped.nii.gz', '7808217_ADC_stripped_znormed.nii.gz', '7808217_FLAIR_stripped_znormed.nii.gz', '7808217_T1GD_stripped_znormed.nii.gz']\n",
      "/media/sc-mlsg/DATA2/Perfusion_study_radiomics_preprocessed/05_Stripped_znormalized/7809569 [] ['7809569_ADC_stripped.nii.gz', '7809569_ADC_stripped_znormed.nii.gz', '7809569_FLAIR_stripped_znormed.nii.gz', '7809569_T1GD_stripped_znormed.nii.gz']\n",
      "/media/sc-mlsg/DATA2/Perfusion_study_radiomics_preprocessed/05_Stripped_znormalized/7816559 [] ['7816559_ADC_stripped.nii.gz', '7816559_ADC_stripped_znormed.nii.gz', '7816559_FLAIR_stripped_znormed.nii.gz', '7816559_T1GD_stripped_znormed.nii.gz']\n",
      "/media/sc-mlsg/DATA2/Perfusion_study_radiomics_preprocessed/05_Stripped_znormalized/7820534 [] ['7820534_ADC_stripped.nii.gz', '7820534_ADC_stripped_znormed.nii.gz', '7820534_FLAIR_stripped_znormed.nii.gz', '7820534_T1GD_stripped_znormed.nii.gz']\n",
      "/media/sc-mlsg/DATA2/Perfusion_study_radiomics_preprocessed/05_Stripped_znormalized/7826770 [] ['7826770_ADC_stripped.nii.gz', '7826770_ADC_stripped_znormed.nii.gz', '7826770_FLAIR_stripped_znormed.nii.gz', '7826770_T1GD_stripped_znormed.nii.gz']\n",
      "/media/sc-mlsg/DATA2/Perfusion_study_radiomics_preprocessed/05_Stripped_znormalized/7842502 [] ['7842502_ADC_stripped.nii.gz', '7842502_ADC_stripped_znormed.nii.gz', '7842502_FLAIR_stripped_znormed.nii.gz', '7842502_T1GD_stripped_znormed.nii.gz']\n",
      "/media/sc-mlsg/DATA2/Perfusion_study_radiomics_preprocessed/05_Stripped_znormalized/7845251 [] ['7845251_ADC_stripped.nii.gz', '7845251_ADC_stripped_znormed.nii.gz', '7845251_FLAIR_stripped_znormed.nii.gz', '7845251_T1GD_stripped_znormed.nii.gz']\n",
      "/media/sc-mlsg/DATA2/Perfusion_study_radiomics_preprocessed/05_Stripped_znormalized/7865431 [] ['7865431_ADC_stripped.nii.gz', '7865431_ADC_stripped_znormed.nii.gz', '7865431_FLAIR_stripped_znormed.nii.gz', '7865431_T1GD_stripped_znormed.nii.gz']\n",
      "/media/sc-mlsg/DATA2/Perfusion_study_radiomics_preprocessed/05_Stripped_znormalized/7871704 [] ['7871704_ADC_stripped.nii.gz', '7871704_ADC_stripped_znormed.nii.gz', '7871704_FLAIR_stripped_znormed.nii.gz', '7871704_T1GD_stripped_znormed.nii.gz']\n",
      "/media/sc-mlsg/DATA2/Perfusion_study_radiomics_preprocessed/05_Stripped_znormalized/7892450 [] ['7892450_ADC_stripped.nii.gz', '7892450_ADC_stripped_znormed.nii.gz', '7892450_FLAIR_stripped_znormed.nii.gz', '7892450_T1GD_stripped_znormed.nii.gz']\n",
      "/media/sc-mlsg/DATA2/Perfusion_study_radiomics_preprocessed/05_Stripped_znormalized/7898233 [] ['7898233_ADC_stripped.nii.gz', '7898233_ADC_stripped_znormed.nii.gz', '7898233_FLAIR_stripped_znormed.nii.gz', '7898233_T1GD_stripped_znormed.nii.gz']\n",
      "/media/sc-mlsg/DATA2/Perfusion_study_radiomics_preprocessed/05_Stripped_znormalized/7921035 [] ['7921035_ADC_stripped.nii.gz', '7921035_ADC_stripped_znormed.nii.gz', '7921035_FLAIR_stripped_znormed.nii.gz', '7921035_T1GD_stripped_znormed.nii.gz']\n",
      "/media/sc-mlsg/DATA2/Perfusion_study_radiomics_preprocessed/05_Stripped_znormalized/7922825 [] ['7922825_ADC_stripped.nii.gz', '7922825_ADC_stripped_znormed.nii.gz', '7922825_FLAIR_stripped_znormed.nii.gz', '7922825_T1GD_stripped_znormed.nii.gz']\n",
      "/media/sc-mlsg/DATA2/Perfusion_study_radiomics_preprocessed/05_Stripped_znormalized/7926232 [] ['7926232_ADC_stripped.nii.gz', '7926232_ADC_stripped_znormed.nii.gz', '7926232_FLAIR_stripped_znormed.nii.gz', '7926232_T1GD_stripped_znormed.nii.gz']\n",
      "/media/sc-mlsg/DATA2/Perfusion_study_radiomics_preprocessed/05_Stripped_znormalized/7938576 [] ['7938576_ADC_stripped.nii.gz', '7938576_ADC_stripped_znormed.nii.gz', '7938576_FLAIR_stripped_znormed.nii.gz', '7938576_T1GD_stripped_znormed.nii.gz']\n",
      "/media/sc-mlsg/DATA2/Perfusion_study_radiomics_preprocessed/05_Stripped_znormalized/7946503 [] ['7946503_ADC_stripped.nii.gz', '7946503_ADC_stripped_znormed.nii.gz', '7946503_FLAIR_stripped_znormed.nii.gz', '7946503_T1GD_stripped_znormed.nii.gz']\n",
      "/media/sc-mlsg/DATA2/Perfusion_study_radiomics_preprocessed/05_Stripped_znormalized/7947384 [] ['7947384_ADC_stripped.nii.gz', '7947384_ADC_stripped_znormed.nii.gz', '7947384_FLAIR_stripped_znormed.nii.gz', '7947384_T1GD_stripped_znormed.nii.gz']\n",
      "/media/sc-mlsg/DATA2/Perfusion_study_radiomics_preprocessed/05_Stripped_znormalized/7955082 [] ['7955082_ADC_stripped.nii.gz', '7955082_ADC_stripped_znormed.nii.gz', '7955082_FLAIR_stripped_znormed.nii.gz', '7955082_T1GD_stripped_znormed.nii.gz']\n",
      "/media/sc-mlsg/DATA2/Perfusion_study_radiomics_preprocessed/05_Stripped_znormalized/7968300 [] ['7968300_ADC_stripped.nii.gz', '7968300_ADC_stripped_znormed.nii.gz', '7968300_FLAIR_stripped_znormed.nii.gz', '7968300_T1GD_stripped_znormed.nii.gz']\n",
      "/media/sc-mlsg/DATA2/Perfusion_study_radiomics_preprocessed/05_Stripped_znormalized/7971571 [] ['7971571_ADC_stripped.nii.gz', '7971571_ADC_stripped_znormed.nii.gz', '7971571_FLAIR_stripped_znormed.nii.gz', '7971571_T1GD_stripped_znormed.nii.gz']\n",
      "/media/sc-mlsg/DATA2/Perfusion_study_radiomics_preprocessed/05_Stripped_znormalized/7973273 [] ['7973273_ADC_stripped.nii.gz', '7973273_ADC_stripped_znormed.nii.gz', '7973273_FLAIR_stripped_znormed.nii.gz', '7973273_T1GD_stripped_znormed.nii.gz']\n",
      "/media/sc-mlsg/DATA2/Perfusion_study_radiomics_preprocessed/05_Stripped_znormalized/8002014 [] ['8002014_ADC_stripped.nii.gz', '8002014_ADC_stripped_znormed.nii.gz', '8002014_FLAIR_stripped_znormed.nii.gz', '8002014_T1GD_stripped_znormed.nii.gz']\n",
      "/media/sc-mlsg/DATA2/Perfusion_study_radiomics_preprocessed/05_Stripped_znormalized/8011358 [] ['8011358_ADC_stripped.nii.gz', '8011358_ADC_stripped_znormed.nii.gz', '8011358_FLAIR_stripped_znormed.nii.gz', '8011358_T1GD_stripped_znormed.nii.gz']\n",
      "/media/sc-mlsg/DATA2/Perfusion_study_radiomics_preprocessed/05_Stripped_znormalized/8011880 [] ['8011880_ADC_stripped.nii.gz', '8011880_ADC_stripped_znormed.nii.gz', '8011880_FLAIR_stripped_znormed.nii.gz', '8011880_T1GD_stripped_znormed.nii.gz']\n",
      "/media/sc-mlsg/DATA2/Perfusion_study_radiomics_preprocessed/05_Stripped_znormalized/8018918 [] ['8018918_ADC_stripped.nii.gz', '8018918_ADC_stripped_znormed.nii.gz', '8018918_FLAIR_stripped_znormed.nii.gz', '8018918_T1GD_stripped_znormed.nii.gz']\n",
      "/media/sc-mlsg/DATA2/Perfusion_study_radiomics_preprocessed/05_Stripped_znormalized/8044835 [] ['8044835_ADC_stripped.nii.gz', '8044835_ADC_stripped_znormed.nii.gz', '8044835_FLAIR_stripped_znormed.nii.gz', '8044835_T1GD_stripped_znormed.nii.gz']\n",
      "/media/sc-mlsg/DATA2/Perfusion_study_radiomics_preprocessed/05_Stripped_znormalized/8051568 [] ['8051568_ADC_stripped.nii.gz', '8051568_ADC_stripped_znormed.nii.gz', '8051568_FLAIR_stripped_znormed.nii.gz', '8051568_T1GD_stripped_znormed.nii.gz']\n",
      "/media/sc-mlsg/DATA2/Perfusion_study_radiomics_preprocessed/05_Stripped_znormalized/8052811 [] ['8052811_ADC_stripped.nii.gz', '8052811_ADC_stripped_znormed.nii.gz', '8052811_FLAIR_stripped_znormed.nii.gz', '8052811_T1GD_stripped_znormed.nii.gz']\n",
      "/media/sc-mlsg/DATA2/Perfusion_study_radiomics_preprocessed/05_Stripped_znormalized/8060512 [] ['8060512_ADC_stripped.nii.gz', '8060512_ADC_stripped_znormed.nii.gz', '8060512_FLAIR_stripped_znormed.nii.gz', '8060512_T1GD_stripped_znormed.nii.gz']\n",
      "/media/sc-mlsg/DATA2/Perfusion_study_radiomics_preprocessed/05_Stripped_znormalized/8064434 [] ['8064434_ADC_stripped.nii.gz', '8064434_ADC_stripped_znormed.nii.gz', '8064434_FLAIR_stripped_znormed.nii.gz', '8064434_T1GD_stripped_znormed.nii.gz']\n",
      "/media/sc-mlsg/DATA2/Perfusion_study_radiomics_preprocessed/05_Stripped_znormalized/8072260 [] ['8072260_ADC_stripped.nii.gz', '8072260_ADC_stripped_znormed.nii.gz', '8072260_FLAIR_stripped_znormed.nii.gz', '8072260_T1GD_stripped_znormed.nii.gz']\n",
      "/media/sc-mlsg/DATA2/Perfusion_study_radiomics_preprocessed/05_Stripped_znormalized/8074420 [] ['8074420_ADC_stripped.nii.gz', '8074420_ADC_stripped_znormed.nii.gz', '8074420_FLAIR_stripped_znormed.nii.gz', '8074420_T1GD_stripped_znormed.nii.gz']\n",
      "/media/sc-mlsg/DATA2/Perfusion_study_radiomics_preprocessed/05_Stripped_znormalized/8077298 [] ['8077298_ADC_stripped.nii.gz', '8077298_ADC_stripped_znormed.nii.gz', '8077298_FLAIR_stripped_znormed.nii.gz', '8077298_T1GD_stripped_znormed.nii.gz']\n",
      "/media/sc-mlsg/DATA2/Perfusion_study_radiomics_preprocessed/05_Stripped_znormalized/8078358 [] ['8078358_ADC_stripped.nii.gz', '8078358_ADC_stripped_znormed.nii.gz', '8078358_FLAIR_stripped_znormed.nii.gz', '8078358_T1GD_stripped_znormed.nii.gz']\n",
      "/media/sc-mlsg/DATA2/Perfusion_study_radiomics_preprocessed/05_Stripped_znormalized/8082756 [] ['8082756_ADC_stripped.nii.gz', '8082756_ADC_stripped_znormed.nii.gz', '8082756_FLAIR_stripped_znormed.nii.gz', '8082756_T1GD_stripped_znormed.nii.gz']\n",
      "/media/sc-mlsg/DATA2/Perfusion_study_radiomics_preprocessed/05_Stripped_znormalized/8083396 [] ['8083396_ADC_stripped.nii.gz', '8083396_ADC_stripped_znormed.nii.gz', '8083396_FLAIR_stripped_znormed.nii.gz', '8083396_T1GD_stripped_znormed.nii.gz']\n",
      "/media/sc-mlsg/DATA2/Perfusion_study_radiomics_preprocessed/05_Stripped_znormalized/8089351 [] ['8089351_ADC_stripped.nii.gz', '8089351_ADC_stripped_znormed.nii.gz', '8089351_FLAIR_stripped_znormed.nii.gz', '8089351_T1GD_stripped_znormed.nii.gz']\n",
      "/media/sc-mlsg/DATA2/Perfusion_study_radiomics_preprocessed/05_Stripped_znormalized/8097929 [] ['8097929_ADC_stripped.nii.gz', '8097929_ADC_stripped_znormed.nii.gz', '8097929_FLAIR_stripped_znormed.nii.gz', '8097929_T1GD_stripped_znormed.nii.gz']\n",
      "/media/sc-mlsg/DATA2/Perfusion_study_radiomics_preprocessed/05_Stripped_znormalized/8101370 [] ['8101370_ADC_stripped.nii.gz', '8101370_ADC_stripped_znormed.nii.gz', '8101370_FLAIR_stripped_znormed.nii.gz', '8101370_T1GD_stripped_znormed.nii.gz']\n",
      "/media/sc-mlsg/DATA2/Perfusion_study_radiomics_preprocessed/05_Stripped_znormalized/8125034 [] ['8125034_ADC_stripped.nii.gz', '8125034_ADC_stripped_znormed.nii.gz', '8125034_FLAIR_stripped_znormed.nii.gz', '8125034_T1GD_stripped_znormed.nii.gz']\n",
      "/media/sc-mlsg/DATA2/Perfusion_study_radiomics_preprocessed/05_Stripped_znormalized/8170673 [] ['8170673_ADC_stripped.nii.gz', '8170673_ADC_stripped_znormed.nii.gz', '8170673_FLAIR_stripped_znormed.nii.gz', '8170673_T1GD_stripped_znormed.nii.gz']\n",
      "/media/sc-mlsg/DATA2/Perfusion_study_radiomics_preprocessed/05_Stripped_znormalized/8190372 [] ['8190372_ADC_stripped.nii.gz', '8190372_ADC_stripped_znormed.nii.gz', '8190372_FLAIR_stripped_znormed.nii.gz', '8190372_T1GD_stripped_znormed.nii.gz']\n",
      "/media/sc-mlsg/DATA2/Perfusion_study_radiomics_preprocessed/05_Stripped_znormalized/8224960 [] ['8224960_ADC_stripped.nii.gz', '8224960_ADC_stripped_znormed.nii.gz', '8224960_FLAIR_stripped_znormed.nii.gz', '8224960_T1GD_stripped_znormed.nii.gz']\n",
      "/media/sc-mlsg/DATA2/Perfusion_study_radiomics_preprocessed/05_Stripped_znormalized/8229739 [] ['8229739_ADC_stripped.nii.gz', '8229739_ADC_stripped_znormed.nii.gz', '8229739_FLAIR_stripped_znormed.nii.gz', '8229739_T1GD_stripped_znormed.nii.gz']\n",
      "/media/sc-mlsg/DATA2/Perfusion_study_radiomics_preprocessed/05_Stripped_znormalized/8235696 [] ['8235696_ADC_stripped.nii.gz', '8235696_ADC_stripped_znormed.nii.gz', '8235696_FLAIR_stripped_znormed.nii.gz', '8235696_T1GD_stripped_znormed.nii.gz']\n",
      "/media/sc-mlsg/DATA2/Perfusion_study_radiomics_preprocessed/05_Stripped_znormalized/8268889 [] ['8268889_ADC_stripped.nii.gz', '8268889_ADC_stripped_znormed.nii.gz', '8268889_FLAIR_stripped_znormed.nii.gz', '8268889_T1GD_stripped_znormed.nii.gz']\n",
      "/media/sc-mlsg/DATA2/Perfusion_study_radiomics_preprocessed/05_Stripped_znormalized/8367857 [] ['8367857_ADC_stripped.nii.gz', '8367857_ADC_stripped_znormed.nii.gz', '8367857_FLAIR_stripped_znormed.nii.gz', '8367857_T1GD_stripped_znormed.nii.gz']\n",
      "/media/sc-mlsg/DATA2/Perfusion_study_radiomics_preprocessed/05_Stripped_znormalized/8450356 [] ['8450356_ADC_stripped.nii.gz', '8450356_ADC_stripped_znormed.nii.gz', '8450356_FLAIR_stripped_znormed.nii.gz', '8450356_T1GD_stripped_znormed.nii.gz']\n",
      "/media/sc-mlsg/DATA2/Perfusion_study_radiomics_preprocessed/05_Stripped_znormalized/8463790 [] ['8463790_ADC_stripped.nii.gz', '8463790_ADC_stripped_znormed.nii.gz', '8463790_FLAIR_stripped_znormed.nii.gz', '8463790_T1GD_stripped_znormed.nii.gz']\n",
      "/media/sc-mlsg/DATA2/Perfusion_study_radiomics_preprocessed/05_Stripped_znormalized/8481377 [] ['8481377_ADC_stripped.nii.gz', '8481377_ADC_stripped_znormed.nii.gz', '8481377_FLAIR_stripped_znormed.nii.gz', '8481377_T1GD_stripped_znormed.nii.gz']\n",
      "/media/sc-mlsg/DATA2/Perfusion_study_radiomics_preprocessed/05_Stripped_znormalized/8483143 [] ['8483143_ADC_stripped.nii.gz', '8483143_ADC_stripped_znormed.nii.gz', '8483143_FLAIR_stripped_znormed.nii.gz', '8483143_T1GD_stripped_znormed.nii.gz']\n",
      "/media/sc-mlsg/DATA2/Perfusion_study_radiomics_preprocessed/05_Stripped_znormalized/8484226 [] ['8484226_ADC_stripped.nii.gz', '8484226_ADC_stripped_znormed.nii.gz', '8484226_FLAIR_stripped_znormed.nii.gz', '8484226_T1GD_stripped_znormed.nii.gz']\n",
      "/media/sc-mlsg/DATA2/Perfusion_study_radiomics_preprocessed/05_Stripped_znormalized/8485609 [] ['8485609_ADC_stripped.nii.gz', '8485609_ADC_stripped_znormed.nii.gz', '8485609_FLAIR_stripped_znormed.nii.gz', '8485609_T1GD_stripped_znormed.nii.gz']\n",
      "/media/sc-mlsg/DATA2/Perfusion_study_radiomics_preprocessed/05_Stripped_znormalized/8489830 [] ['8489830_ADC_stripped.nii.gz', '8489830_ADC_stripped_znormed.nii.gz', '8489830_FLAIR_stripped_znormed.nii.gz', '8489830_T1GD_stripped_znormed.nii.gz']\n",
      "/media/sc-mlsg/DATA2/Perfusion_study_radiomics_preprocessed/05_Stripped_znormalized/8491797 [] ['8491797_ADC_stripped.nii.gz', '8491797_ADC_stripped_znormed.nii.gz', '8491797_FLAIR_stripped_znormed.nii.gz', '8491797_T1GD_stripped_znormed.nii.gz']\n",
      "/media/sc-mlsg/DATA2/Perfusion_study_radiomics_preprocessed/05_Stripped_znormalized/8491887 [] ['8491887_ADC_stripped.nii.gz', '8491887_ADC_stripped_znormed.nii.gz', '8491887_FLAIR_stripped_znormed.nii.gz', '8491887_T1GD_stripped_znormed.nii.gz']\n",
      "/media/sc-mlsg/DATA2/Perfusion_study_radiomics_preprocessed/05_Stripped_znormalized/8494094 [] ['8494094_ADC_stripped.nii.gz', '8494094_ADC_stripped_znormed.nii.gz', '8494094_FLAIR_stripped_znormed.nii.gz', '8494094_T1GD_stripped_znormed.nii.gz']\n",
      "/media/sc-mlsg/DATA2/Perfusion_study_radiomics_preprocessed/05_Stripped_znormalized/8513671 [] ['8513671_ADC_stripped.nii.gz', '8513671_ADC_stripped_znormed.nii.gz', '8513671_FLAIR_stripped_znormed.nii.gz', '8513671_T1GD_stripped_znormed.nii.gz']\n",
      "/media/sc-mlsg/DATA2/Perfusion_study_radiomics_preprocessed/05_Stripped_znormalized/8518093 [] ['8518093_ADC_stripped.nii.gz', '8518093_ADC_stripped_znormed.nii.gz', '8518093_FLAIR_stripped_znormed.nii.gz', '8518093_T1GD_stripped_znormed.nii.gz']\n",
      "/media/sc-mlsg/DATA2/Perfusion_study_radiomics_preprocessed/05_Stripped_znormalized/8527924 [] ['8527924_ADC_stripped.nii.gz', '8527924_ADC_stripped_znormed.nii.gz', '8527924_FLAIR_stripped_znormed.nii.gz', '8527924_T1GD_stripped_znormed.nii.gz']\n",
      "/media/sc-mlsg/DATA2/Perfusion_study_radiomics_preprocessed/05_Stripped_znormalized/8529533 [] ['8529533_ADC_stripped.nii.gz', '8529533_ADC_stripped_znormed.nii.gz', '8529533_FLAIR_stripped_znormed.nii.gz', '8529533_T1GD_stripped_znormed.nii.gz']\n",
      "/media/sc-mlsg/DATA2/Perfusion_study_radiomics_preprocessed/05_Stripped_znormalized/8532530 [] ['8532530_ADC_stripped.nii.gz', '8532530_ADC_stripped_znormed.nii.gz', '8532530_FLAIR_stripped_znormed.nii.gz', '8532530_T1GD_stripped_znormed.nii.gz']\n",
      "/media/sc-mlsg/DATA2/Perfusion_study_radiomics_preprocessed/05_Stripped_znormalized/8536936 [] ['8536936_ADC_stripped.nii.gz', '8536936_ADC_stripped_znormed.nii.gz', '8536936_FLAIR_stripped_znormed.nii.gz', '8536936_T1GD_stripped_znormed.nii.gz']\n",
      "/media/sc-mlsg/DATA2/Perfusion_study_radiomics_preprocessed/05_Stripped_znormalized/8549991 [] ['8549991_ADC_stripped.nii.gz', '8549991_ADC_stripped_znormed.nii.gz', '8549991_FLAIR_stripped_znormed.nii.gz', '8549991_T1GD_stripped_znormed.nii.gz']\n",
      "/media/sc-mlsg/DATA2/Perfusion_study_radiomics_preprocessed/05_Stripped_znormalized/8562189 [] ['8562189_ADC_stripped.nii.gz', '8562189_ADC_stripped_znormed.nii.gz', '8562189_FLAIR_stripped_znormed.nii.gz', '8562189_T1GD_stripped_znormed.nii.gz']\n",
      "/media/sc-mlsg/DATA2/Perfusion_study_radiomics_preprocessed/05_Stripped_znormalized/6830738 [] ['6830738_ADC_stripped.nii.gz', '6830738_ADC_stripped_znormed.nii.gz', '6830738_FLAIR_stripped_znormed.nii.gz', '6830738_T1GD_stripped_znormed.nii.gz']\n",
      "/media/sc-mlsg/DATA2/Perfusion_study_radiomics_preprocessed/05_Stripped_znormalized/7821391 [] ['7821391_ADC_stripped.nii.gz', '7821391_ADC_stripped_znormed.nii.gz', '7821391_FLAIR_stripped_znormed.nii.gz', '7821391_T1GD_stripped_znormed.nii.gz']\n",
      "/media/sc-mlsg/DATA2/Perfusion_study_radiomics_preprocessed/05_Stripped_znormalized/8037487 [] ['8037487_ADC_stripped.nii.gz', '8037487_ADC_stripped_znormed.nii.gz', '8037487_FLAIR_stripped_znormed.nii.gz', '8037487_T1GD_stripped_znormed.nii.gz']\n",
      "/media/sc-mlsg/DATA2/Perfusion_study_radiomics_preprocessed/05_Stripped_znormalized/8256132 [] ['8256132_ADC_stripped.nii.gz', '8256132_ADC_stripped_znormed.nii.gz', '8256132_FLAIR_stripped_znormed.nii.gz', '8256132_T1GD_stripped_znormed.nii.gz']\n",
      "/media/sc-mlsg/DATA2/Perfusion_study_radiomics_preprocessed/05_Stripped_znormalized/8566583 [] ['8566583_ADC_stripped.nii.gz', '8566583_ADC_stripped_znormed.nii.gz', '8566583_FLAIR_stripped_znormed.nii.gz', '8566583_T1GD_stripped_znormed.nii.gz']\n",
      "/media/sc-mlsg/DATA2/Perfusion_study_radiomics_preprocessed/05_Stripped_znormalized/8568702 [] ['8568702_ADC_stripped.nii.gz', '8568702_ADC_stripped_znormed.nii.gz', '8568702_FLAIR_stripped_znormed.nii.gz', '8568702_T1GD_stripped_znormed.nii.gz']\n",
      "/media/sc-mlsg/DATA2/Perfusion_study_radiomics_preprocessed/05_Stripped_znormalized/8571328 [] ['8571328_ADC_stripped.nii.gz', '8571328_ADC_stripped_znormed.nii.gz', '8571328_FLAIR_stripped_znormed.nii.gz', '8571328_T1GD_stripped_znormed.nii.gz']\n",
      "/media/sc-mlsg/DATA2/Perfusion_study_radiomics_preprocessed/05_Stripped_znormalized/8588494 [] ['8588494_ADC_stripped.nii.gz', '8588494_ADC_stripped_znormed.nii.gz', '8588494_FLAIR_stripped_znormed.nii.gz', '8588494_T1GD_stripped_znormed.nii.gz']\n",
      "/media/sc-mlsg/DATA2/Perfusion_study_radiomics_preprocessed/05_Stripped_znormalized/8591024 [] ['8591024_ADC_stripped.nii.gz', '8591024_ADC_stripped_znormed.nii.gz', '8591024_FLAIR_stripped_znormed.nii.gz', '8591024_T1GD_stripped_znormed.nii.gz']\n",
      "/media/sc-mlsg/DATA2/Perfusion_study_radiomics_preprocessed/05_Stripped_znormalized/8595211 [] ['8595211_ADC_stripped.nii.gz', '8595211_ADC_stripped_znormed.nii.gz', '8595211_FLAIR_stripped_znormed.nii.gz', '8595211_T1GD_stripped_znormed.nii.gz']\n",
      "/media/sc-mlsg/DATA2/Perfusion_study_radiomics_preprocessed/05_Stripped_znormalized/8604413 [] ['8604413_ADC_stripped.nii.gz', '8604413_ADC_stripped_znormed.nii.gz', '8604413_FLAIR_stripped_znormed.nii.gz', '8604413_T1GD_stripped_znormed.nii.gz']\n",
      "/media/sc-mlsg/DATA2/Perfusion_study_radiomics_preprocessed/05_Stripped_znormalized/8630035 [] ['8630035_ADC_stripped.nii.gz', '8630035_ADC_stripped_znormed.nii.gz', '8630035_FLAIR_stripped_znormed.nii.gz', '8630035_T1GD_stripped_znormed.nii.gz']\n",
      "/media/sc-mlsg/DATA2/Perfusion_study_radiomics_preprocessed/05_Stripped_znormalized/8633978 [] ['8633978_ADC_stripped.nii.gz', '8633978_ADC_stripped_znormed.nii.gz', '8633978_FLAIR_stripped_znormed.nii.gz', '8633978_T1GD_stripped_znormed.nii.gz']\n",
      "/media/sc-mlsg/DATA2/Perfusion_study_radiomics_preprocessed/05_Stripped_znormalized/8640861 [] ['8640861_ADC_stripped.nii.gz', '8640861_ADC_stripped_znormed.nii.gz', '8640861_FLAIR_stripped_znormed.nii.gz', '8640861_T1GD_stripped_znormed.nii.gz']\n",
      "/media/sc-mlsg/DATA2/Perfusion_study_radiomics_preprocessed/05_Stripped_znormalized/8647046 [] ['8647046_ADC_stripped.nii.gz', '8647046_ADC_stripped_znormed.nii.gz', '8647046_FLAIR_stripped_znormed.nii.gz', '8647046_T1GD_stripped_znormed.nii.gz']\n",
      "/media/sc-mlsg/DATA2/Perfusion_study_radiomics_preprocessed/05_Stripped_znormalized/8651745 [] ['8651745_ADC_stripped.nii.gz', '8651745_ADC_stripped_znormed.nii.gz', '8651745_FLAIR_stripped_znormed.nii.gz', '8651745_T1GD_stripped_znormed.nii.gz']\n",
      "/media/sc-mlsg/DATA2/Perfusion_study_radiomics_preprocessed/05_Stripped_znormalized/8662383 [] ['8662383_ADC_stripped.nii.gz', '8662383_ADC_stripped_znormed.nii.gz', '8662383_FLAIR_stripped_znormed.nii.gz', '8662383_T1GD_stripped_znormed.nii.gz']\n",
      "/media/sc-mlsg/DATA2/Perfusion_study_radiomics_preprocessed/05_Stripped_znormalized/8664725 [] ['8664725_ADC_stripped.nii.gz', '8664725_ADC_stripped_znormed.nii.gz', '8664725_FLAIR_stripped_znormed.nii.gz', '8664725_T1GD_stripped_znormed.nii.gz']\n",
      "/media/sc-mlsg/DATA2/Perfusion_study_radiomics_preprocessed/05_Stripped_znormalized/8665561 [] ['8665561_ADC_stripped.nii.gz', '8665561_ADC_stripped_znormed.nii.gz', '8665561_FLAIR_stripped_znormed.nii.gz', '8665561_T1GD_stripped_znormed.nii.gz']\n",
      "/media/sc-mlsg/DATA2/Perfusion_study_radiomics_preprocessed/05_Stripped_znormalized/8695364 [] ['8695364_ADC_stripped.nii.gz', '8695364_ADC_stripped_znormed.nii.gz', '8695364_FLAIR_stripped_znormed.nii.gz', '8695364_T1GD_stripped_znormed.nii.gz']\n",
      "/media/sc-mlsg/DATA2/Perfusion_study_radiomics_preprocessed/05_Stripped_znormalized/8712859 [] ['8712859_ADC_stripped.nii.gz', '8712859_ADC_stripped_znormed.nii.gz', '8712859_FLAIR_stripped_znormed.nii.gz', '8712859_T1GD_stripped_znormed.nii.gz']\n",
      "/media/sc-mlsg/DATA2/Perfusion_study_radiomics_preprocessed/05_Stripped_znormalized/8736560 [] ['8736560_ADC_stripped.nii.gz', '8736560_ADC_stripped_znormed.nii.gz', '8736560_FLAIR_stripped_znormed.nii.gz', '8736560_T1GD_stripped_znormed.nii.gz']\n",
      "/media/sc-mlsg/DATA2/Perfusion_study_radiomics_preprocessed/05_Stripped_znormalized/8737593 [] ['8737593_ADC_stripped.nii.gz', '8737593_ADC_stripped_znormed.nii.gz', '8737593_FLAIR_stripped_znormed.nii.gz', '8737593_T1GD_stripped_znormed.nii.gz']\n",
      "/media/sc-mlsg/DATA2/Perfusion_study_radiomics_preprocessed/05_Stripped_znormalized/8739559 [] ['8739559_ADC_stripped.nii.gz', '8739559_ADC_stripped_znormed.nii.gz', '8739559_FLAIR_stripped_znormed.nii.gz', '8739559_T1GD_stripped_znormed.nii.gz']\n",
      "/media/sc-mlsg/DATA2/Perfusion_study_radiomics_preprocessed/05_Stripped_znormalized/8747465 [] ['8747465_ADC_stripped.nii.gz', '8747465_ADC_stripped_znormed.nii.gz', '8747465_FLAIR_stripped_znormed.nii.gz', '8747465_T1GD_stripped_znormed.nii.gz']\n",
      "/media/sc-mlsg/DATA2/Perfusion_study_radiomics_preprocessed/05_Stripped_znormalized/8784152 [] ['8784152_ADC_stripped.nii.gz', '8784152_ADC_stripped_znormed.nii.gz', '8784152_FLAIR_stripped_znormed.nii.gz', '8784152_T1GD_stripped_znormed.nii.gz']\n",
      "/media/sc-mlsg/DATA2/Perfusion_study_radiomics_preprocessed/05_Stripped_znormalized/8785065 [] ['8785065_ADC_stripped.nii.gz', '8785065_ADC_stripped_znormed.nii.gz', '8785065_FLAIR_stripped_znormed.nii.gz', '8785065_T1GD_stripped_znormed.nii.gz']\n",
      "/media/sc-mlsg/DATA2/Perfusion_study_radiomics_preprocessed/05_Stripped_znormalized/8795827 [] ['8795827_ADC_stripped.nii.gz', '8795827_ADC_stripped_znormed.nii.gz', '8795827_FLAIR_stripped_znormed.nii.gz', '8795827_T1GD_stripped_znormed.nii.gz']\n",
      "/media/sc-mlsg/DATA2/Perfusion_study_radiomics_preprocessed/05_Stripped_znormalized/8798832 [] ['8798832_ADC_stripped.nii.gz', '8798832_ADC_stripped_znormed.nii.gz', '8798832_FLAIR_stripped_znormed.nii.gz', '8798832_T1GD_stripped_znormed.nii.gz']\n",
      "/media/sc-mlsg/DATA2/Perfusion_study_radiomics_preprocessed/05_Stripped_znormalized/9111662 [] ['9111662_ADC_stripped.nii.gz', '9111662_ADC_stripped_znormed.nii.gz', '9111662_FLAIR_stripped_znormed.nii.gz', '9111662_T1GD_stripped_znormed.nii.gz']\n"
     ]
    }
   ],
   "source": [
    "for (path, dirs, files) in os.walk(in_path):\n",
    "    print(path, dirs, files)"
   ]
  },
  {
   "cell_type": "code",
   "execution_count": 4,
   "metadata": {
    "id": "iXXfysuZ6WCr"
   },
   "outputs": [],
   "source": [
    "from __future__ import print_function\n",
    "from radiomics import featureextractor\n",
    "import radiomics\n",
    "import logging\n",
    "radiomics.logger.setLevel(logging.ERROR)\n",
    "import SimpleITK as sitk\n",
    "from radiomics import firstorder, glcm, shape, glrlm, glszm, ngtdm, gldm\n",
    "import numpy as np\n",
    "\n",
    "\n",
    "def Numpy2Itk(array):\n",
    "    '''\n",
    "    :param array: numpy array format\n",
    "    :return: simple itk image type format\n",
    "    '''\n",
    "    return sitk.GetImageFromArray(array)\n",
    "\n",
    "def feature_extract(image_origin, image_mask, features = ['firstorder', 'glcm', 'glszm', 'glrlm', 'ngtdm', 'shape'], binWidth=32, binCount=None):\n",
    "    '''\n",
    "    :param image_origin: image_array (numpy array)\n",
    "    :param image_mask: mask_array (numpy array)\n",
    "    :return: whole features, featureVector\n",
    "    '''\n",
    "    image = Numpy2Itk(image_origin)\n",
    "    mask = Numpy2Itk(image_mask)\n",
    "    \n",
    "    settings = {}\n",
    "\n",
    "    if binWidth:\n",
    "        settings['binWidth'] = binWidth\n",
    "    if binCount:\n",
    "        settings['binCount'] = binCount\n",
    "    settings['resampledPixelSpacing'] = (1,1,1)\n",
    "    settings['interpolator'] = 'sitkBSpline'\n",
    "    settings['verbose'] = True\n",
    "    \n",
    "    extractor = featureextractor.RadiomicsFeatureExtractor(**settings)\n",
    "    extractor.settings['enableCExtensions'] = True\n",
    "    \n",
    "    for feature in features:\n",
    "        extractor.enableFeatureClassByName(feature.lower())\n",
    "        \n",
    "    featureVector = extractor.execute(image, mask)\n",
    "    \n",
    "    cols = []; feats = []\n",
    "    for feature in features:\n",
    "        for featureName in sorted(featureVector.keys()):\n",
    "            if feature in featureName:\n",
    "                cols.append(featureName)\n",
    "                feats.append(featureVector[featureName])\n",
    "    return feats, cols"
   ]
  },
  {
   "cell_type": "code",
   "execution_count": 6,
   "metadata": {
    "colab": {
     "base_uri": "https://localhost:8080/",
     "height": 71
    },
    "executionInfo": {
     "elapsed": 8946955,
     "status": "ok",
     "timestamp": 1599744795171,
     "user": {
      "displayName": "‍최동민(학부학생/공과대학 컴퓨터과학)",
      "photoUrl": "",
      "userId": "05461671858809977056"
     },
     "user_tz": -540
    },
    "id": "V_saa0ISOqA9",
    "outputId": "089f96a6-69c5-4c27-e9b5-a7fb8bdc789e",
    "scrolled": true
   },
   "outputs": [
    {
     "name": "stdout",
     "output_type": "stream",
     "text": [
      "1 2034571\n"
     ]
    },
    {
     "ename": "MemoryError",
     "evalue": "",
     "output_type": "error",
     "traceback": [
      "\u001b[0;31m---------------------------------------------------------------------------\u001b[0m",
      "\u001b[0;31mMemoryError\u001b[0m                               Traceback (most recent call last)",
      "\u001b[0;32m<ipython-input-6-49a84bcb02ec>\u001b[0m in \u001b[0;36m<module>\u001b[0;34m\u001b[0m\n\u001b[1;32m     28\u001b[0m \u001b[0;34m\u001b[0m\u001b[0m\n\u001b[1;32m     29\u001b[0m                 \u001b[0;31m# Change binWidth\u001b[0m\u001b[0;34m\u001b[0m\u001b[0;34m\u001b[0m\u001b[0;34m\u001b[0m\u001b[0m\n\u001b[0;32m---> 30\u001b[0;31m                 \u001b[0mbw_features\u001b[0m\u001b[0;34m,\u001b[0m \u001b[0mbw_cols\u001b[0m \u001b[0;34m=\u001b[0m \u001b[0mfeature_extract\u001b[0m\u001b[0;34m(\u001b[0m\u001b[0mbrain_arr\u001b[0m\u001b[0;34m,\u001b[0m \u001b[0mmask_arr\u001b[0m\u001b[0;34m,\u001b[0m \u001b[0mbinWidth\u001b[0m\u001b[0;34m=\u001b[0m\u001b[0msize\u001b[0m\u001b[0;34m)\u001b[0m\u001b[0;34m\u001b[0m\u001b[0;34m\u001b[0m\u001b[0m\n\u001b[0m\u001b[1;32m     31\u001b[0m                 \u001b[0mbw_cols\u001b[0m \u001b[0;34m=\u001b[0m \u001b[0;34m[\u001b[0m\u001b[0mcol\u001b[0m\u001b[0;34m.\u001b[0m\u001b[0mreplace\u001b[0m\u001b[0;34m(\u001b[0m\u001b[0;34m'original'\u001b[0m\u001b[0;34m,\u001b[0m \u001b[0;34m'{}'\u001b[0m\u001b[0;34m.\u001b[0m\u001b[0mformat\u001b[0m\u001b[0;34m(\u001b[0m\u001b[0mseq\u001b[0m\u001b[0;34m)\u001b[0m\u001b[0;34m)\u001b[0m \u001b[0;32mfor\u001b[0m \u001b[0mcol\u001b[0m \u001b[0;32min\u001b[0m \u001b[0mbw_cols\u001b[0m\u001b[0;34m]\u001b[0m\u001b[0;34m\u001b[0m\u001b[0;34m\u001b[0m\u001b[0m\n\u001b[1;32m     32\u001b[0m \u001b[0;31m#                bw_cols = [col.replace('original', '{}_image_{}_mask'.format(seq, mask_type)) for col in bw_cols]\u001b[0m\u001b[0;34m\u001b[0m\u001b[0;34m\u001b[0m\u001b[0;34m\u001b[0m\u001b[0m\n",
      "\u001b[0;32m<ipython-input-4-8bc5db086c1c>\u001b[0m in \u001b[0;36mfeature_extract\u001b[0;34m(image_origin, image_mask, features, binWidth, binCount)\u001b[0m\n\u001b[1;32m     41\u001b[0m         \u001b[0mextractor\u001b[0m\u001b[0;34m.\u001b[0m\u001b[0menableFeatureClassByName\u001b[0m\u001b[0;34m(\u001b[0m\u001b[0mfeature\u001b[0m\u001b[0;34m.\u001b[0m\u001b[0mlower\u001b[0m\u001b[0;34m(\u001b[0m\u001b[0;34m)\u001b[0m\u001b[0;34m)\u001b[0m\u001b[0;34m\u001b[0m\u001b[0;34m\u001b[0m\u001b[0m\n\u001b[1;32m     42\u001b[0m \u001b[0;34m\u001b[0m\u001b[0m\n\u001b[0;32m---> 43\u001b[0;31m     \u001b[0mfeatureVector\u001b[0m \u001b[0;34m=\u001b[0m \u001b[0mextractor\u001b[0m\u001b[0;34m.\u001b[0m\u001b[0mexecute\u001b[0m\u001b[0;34m(\u001b[0m\u001b[0mimage\u001b[0m\u001b[0;34m,\u001b[0m \u001b[0mmask\u001b[0m\u001b[0;34m)\u001b[0m\u001b[0;34m\u001b[0m\u001b[0;34m\u001b[0m\u001b[0m\n\u001b[0m\u001b[1;32m     44\u001b[0m \u001b[0;34m\u001b[0m\u001b[0m\n\u001b[1;32m     45\u001b[0m     \u001b[0mcols\u001b[0m \u001b[0;34m=\u001b[0m \u001b[0;34m[\u001b[0m\u001b[0;34m]\u001b[0m\u001b[0;34m;\u001b[0m \u001b[0mfeats\u001b[0m \u001b[0;34m=\u001b[0m \u001b[0;34m[\u001b[0m\u001b[0;34m]\u001b[0m\u001b[0;34m\u001b[0m\u001b[0;34m\u001b[0m\u001b[0m\n",
      "\u001b[0;32m~/anaconda3/lib/python3.7/site-packages/pyradiomics-3.0.1.post3+g0c53d1d-py3.7-linux-x86_64.egg/radiomics/featureextractor.py\u001b[0m in \u001b[0;36mexecute\u001b[0;34m(self, imageFilepath, maskFilepath, label, label_channel, voxelBased)\u001b[0m\n\u001b[1;32m    328\u001b[0m       \u001b[0mlogger\u001b[0m\u001b[0;34m.\u001b[0m\u001b[0minfo\u001b[0m\u001b[0;34m(\u001b[0m\u001b[0;34m'Calculating features for %s image'\u001b[0m\u001b[0;34m,\u001b[0m \u001b[0mimageTypeName\u001b[0m\u001b[0;34m)\u001b[0m\u001b[0;34m\u001b[0m\u001b[0;34m\u001b[0m\u001b[0m\n\u001b[1;32m    329\u001b[0m       \u001b[0minputImage\u001b[0m\u001b[0;34m,\u001b[0m \u001b[0minputMask\u001b[0m \u001b[0;34m=\u001b[0m \u001b[0mimageoperations\u001b[0m\u001b[0;34m.\u001b[0m\u001b[0mcropToTumorMask\u001b[0m\u001b[0;34m(\u001b[0m\u001b[0minputImage\u001b[0m\u001b[0;34m,\u001b[0m \u001b[0mmask\u001b[0m\u001b[0;34m,\u001b[0m \u001b[0mboundingBox\u001b[0m\u001b[0;34m,\u001b[0m \u001b[0mpadDistance\u001b[0m\u001b[0;34m=\u001b[0m\u001b[0mkernelRadius\u001b[0m\u001b[0;34m)\u001b[0m\u001b[0;34m\u001b[0m\u001b[0;34m\u001b[0m\u001b[0m\n\u001b[0;32m--> 330\u001b[0;31m       \u001b[0mfeatureVector\u001b[0m\u001b[0;34m.\u001b[0m\u001b[0mupdate\u001b[0m\u001b[0;34m(\u001b[0m\u001b[0mself\u001b[0m\u001b[0;34m.\u001b[0m\u001b[0mcomputeFeatures\u001b[0m\u001b[0;34m(\u001b[0m\u001b[0minputImage\u001b[0m\u001b[0;34m,\u001b[0m \u001b[0minputMask\u001b[0m\u001b[0;34m,\u001b[0m \u001b[0mimageTypeName\u001b[0m\u001b[0;34m,\u001b[0m \u001b[0;34m**\u001b[0m\u001b[0minputKwargs\u001b[0m\u001b[0;34m)\u001b[0m\u001b[0;34m)\u001b[0m\u001b[0;34m\u001b[0m\u001b[0;34m\u001b[0m\u001b[0m\n\u001b[0m\u001b[1;32m    331\u001b[0m \u001b[0;34m\u001b[0m\u001b[0m\n\u001b[1;32m    332\u001b[0m     \u001b[0mlogger\u001b[0m\u001b[0;34m.\u001b[0m\u001b[0mdebug\u001b[0m\u001b[0;34m(\u001b[0m\u001b[0;34m'Features extracted'\u001b[0m\u001b[0;34m)\u001b[0m\u001b[0;34m\u001b[0m\u001b[0;34m\u001b[0m\u001b[0m\n",
      "\u001b[0;32m~/anaconda3/lib/python3.7/site-packages/pyradiomics-3.0.1.post3+g0c53d1d-py3.7-linux-x86_64.egg/radiomics/featureextractor.py\u001b[0m in \u001b[0;36mcomputeFeatures\u001b[0;34m(self, image, mask, imageTypeName, **kwargs)\u001b[0m\n\u001b[1;32m    515\u001b[0m             \u001b[0mfeatureClass\u001b[0m\u001b[0;34m.\u001b[0m\u001b[0menableFeatureByName\u001b[0m\u001b[0;34m(\u001b[0m\u001b[0mfeature\u001b[0m\u001b[0;34m)\u001b[0m\u001b[0;34m\u001b[0m\u001b[0;34m\u001b[0m\u001b[0m\n\u001b[1;32m    516\u001b[0m \u001b[0;34m\u001b[0m\u001b[0m\n\u001b[0;32m--> 517\u001b[0;31m         \u001b[0;32mfor\u001b[0m \u001b[0;34m(\u001b[0m\u001b[0mfeatureName\u001b[0m\u001b[0;34m,\u001b[0m \u001b[0mfeatureValue\u001b[0m\u001b[0;34m)\u001b[0m \u001b[0;32min\u001b[0m \u001b[0msix\u001b[0m\u001b[0;34m.\u001b[0m\u001b[0miteritems\u001b[0m\u001b[0;34m(\u001b[0m\u001b[0mfeatureClass\u001b[0m\u001b[0;34m.\u001b[0m\u001b[0mexecute\u001b[0m\u001b[0;34m(\u001b[0m\u001b[0;34m)\u001b[0m\u001b[0;34m)\u001b[0m\u001b[0;34m:\u001b[0m\u001b[0;34m\u001b[0m\u001b[0;34m\u001b[0m\u001b[0m\n\u001b[0m\u001b[1;32m    518\u001b[0m           \u001b[0mnewFeatureName\u001b[0m \u001b[0;34m=\u001b[0m \u001b[0;34m'%s_%s_%s'\u001b[0m \u001b[0;34m%\u001b[0m \u001b[0;34m(\u001b[0m\u001b[0mimageTypeName\u001b[0m\u001b[0;34m,\u001b[0m \u001b[0mfeatureClassName\u001b[0m\u001b[0;34m,\u001b[0m \u001b[0mfeatureName\u001b[0m\u001b[0;34m)\u001b[0m\u001b[0;34m\u001b[0m\u001b[0;34m\u001b[0m\u001b[0m\n\u001b[1;32m    519\u001b[0m           \u001b[0mfeatureVector\u001b[0m\u001b[0;34m[\u001b[0m\u001b[0mnewFeatureName\u001b[0m\u001b[0;34m]\u001b[0m \u001b[0;34m=\u001b[0m \u001b[0mfeatureValue\u001b[0m\u001b[0;34m\u001b[0m\u001b[0;34m\u001b[0m\u001b[0m\n",
      "\u001b[0;32m~/anaconda3/lib/python3.7/site-packages/pyradiomics-3.0.1.post3+g0c53d1d-py3.7-linux-x86_64.egg/radiomics/base.py\u001b[0m in \u001b[0;36mexecute\u001b[0;34m(self)\u001b[0m\n\u001b[1;32m    183\u001b[0m       \u001b[0mself\u001b[0m\u001b[0;34m.\u001b[0m\u001b[0m_calculateVoxels\u001b[0m\u001b[0;34m(\u001b[0m\u001b[0;34m)\u001b[0m\u001b[0;34m\u001b[0m\u001b[0;34m\u001b[0m\u001b[0m\n\u001b[1;32m    184\u001b[0m     \u001b[0;32melse\u001b[0m\u001b[0;34m:\u001b[0m\u001b[0;34m\u001b[0m\u001b[0;34m\u001b[0m\u001b[0m\n\u001b[0;32m--> 185\u001b[0;31m       \u001b[0mself\u001b[0m\u001b[0;34m.\u001b[0m\u001b[0m_calculateSegment\u001b[0m\u001b[0;34m(\u001b[0m\u001b[0;34m)\u001b[0m\u001b[0;34m\u001b[0m\u001b[0;34m\u001b[0m\u001b[0m\n\u001b[0m\u001b[1;32m    186\u001b[0m \u001b[0;34m\u001b[0m\u001b[0m\n\u001b[1;32m    187\u001b[0m     \u001b[0;32mreturn\u001b[0m \u001b[0mself\u001b[0m\u001b[0;34m.\u001b[0m\u001b[0mfeatureValues\u001b[0m\u001b[0;34m\u001b[0m\u001b[0;34m\u001b[0m\u001b[0m\n",
      "\u001b[0;32m~/anaconda3/lib/python3.7/site-packages/pyradiomics-3.0.1.post3+g0c53d1d-py3.7-linux-x86_64.egg/radiomics/base.py\u001b[0m in \u001b[0;36m_calculateSegment\u001b[0;34m(self)\u001b[0m\n\u001b[1;32m    222\u001b[0m   \u001b[0;32mdef\u001b[0m \u001b[0m_calculateSegment\u001b[0m\u001b[0;34m(\u001b[0m\u001b[0mself\u001b[0m\u001b[0;34m)\u001b[0m\u001b[0;34m:\u001b[0m\u001b[0;34m\u001b[0m\u001b[0;34m\u001b[0m\u001b[0m\n\u001b[1;32m    223\u001b[0m     \u001b[0;31m# Get the feature values using the current segment.\u001b[0m\u001b[0;34m\u001b[0m\u001b[0;34m\u001b[0m\u001b[0;34m\u001b[0m\u001b[0m\n\u001b[0;32m--> 224\u001b[0;31m     \u001b[0;32mfor\u001b[0m \u001b[0msuccess\u001b[0m\u001b[0;34m,\u001b[0m \u001b[0mfeatureName\u001b[0m\u001b[0;34m,\u001b[0m \u001b[0mfeatureValue\u001b[0m \u001b[0;32min\u001b[0m \u001b[0mself\u001b[0m\u001b[0;34m.\u001b[0m\u001b[0m_calculateFeatures\u001b[0m\u001b[0;34m(\u001b[0m\u001b[0;34m)\u001b[0m\u001b[0;34m:\u001b[0m\u001b[0;34m\u001b[0m\u001b[0;34m\u001b[0m\u001b[0m\n\u001b[0m\u001b[1;32m    225\u001b[0m       \u001b[0;31m# Always store the result. In case of an error, featureValue will be NaN\u001b[0m\u001b[0;34m\u001b[0m\u001b[0;34m\u001b[0m\u001b[0;34m\u001b[0m\u001b[0m\n\u001b[1;32m    226\u001b[0m       \u001b[0mself\u001b[0m\u001b[0;34m.\u001b[0m\u001b[0mfeatureValues\u001b[0m\u001b[0;34m[\u001b[0m\u001b[0mfeatureName\u001b[0m\u001b[0;34m]\u001b[0m \u001b[0;34m=\u001b[0m \u001b[0mnumpy\u001b[0m\u001b[0;34m.\u001b[0m\u001b[0msqueeze\u001b[0m\u001b[0;34m(\u001b[0m\u001b[0mfeatureValue\u001b[0m\u001b[0;34m)\u001b[0m\u001b[0;34m\u001b[0m\u001b[0;34m\u001b[0m\u001b[0m\n",
      "\u001b[0;32m~/anaconda3/lib/python3.7/site-packages/pyradiomics-3.0.1.post3+g0c53d1d-py3.7-linux-x86_64.egg/radiomics/base.py\u001b[0m in \u001b[0;36m_calculateFeatures\u001b[0;34m(self, voxelCoordinates)\u001b[0m\n\u001b[1;32m    229\u001b[0m     \u001b[0;31m# Initialize the calculation\u001b[0m\u001b[0;34m\u001b[0m\u001b[0;34m\u001b[0m\u001b[0;34m\u001b[0m\u001b[0m\n\u001b[1;32m    230\u001b[0m     \u001b[0;31m# This function serves to calculate the texture matrices where applicable\u001b[0m\u001b[0;34m\u001b[0m\u001b[0;34m\u001b[0m\u001b[0;34m\u001b[0m\u001b[0m\n\u001b[0;32m--> 231\u001b[0;31m     \u001b[0mself\u001b[0m\u001b[0;34m.\u001b[0m\u001b[0m_initCalculation\u001b[0m\u001b[0;34m(\u001b[0m\u001b[0mvoxelCoordinates\u001b[0m\u001b[0;34m)\u001b[0m\u001b[0;34m\u001b[0m\u001b[0;34m\u001b[0m\u001b[0m\n\u001b[0m\u001b[1;32m    232\u001b[0m \u001b[0;34m\u001b[0m\u001b[0m\n\u001b[1;32m    233\u001b[0m     \u001b[0mself\u001b[0m\u001b[0;34m.\u001b[0m\u001b[0mlogger\u001b[0m\u001b[0;34m.\u001b[0m\u001b[0mdebug\u001b[0m\u001b[0;34m(\u001b[0m\u001b[0;34m'Calculating features'\u001b[0m\u001b[0;34m)\u001b[0m\u001b[0;34m\u001b[0m\u001b[0;34m\u001b[0m\u001b[0m\n",
      "\u001b[0;32m~/anaconda3/lib/python3.7/site-packages/pyradiomics-3.0.1.post3+g0c53d1d-py3.7-linux-x86_64.egg/radiomics/glcm.py\u001b[0m in \u001b[0;36m_initCalculation\u001b[0;34m(self, voxelCoordinates)\u001b[0m\n\u001b[1;32m    109\u001b[0m \u001b[0;34m\u001b[0m\u001b[0m\n\u001b[1;32m    110\u001b[0m   \u001b[0;32mdef\u001b[0m \u001b[0m_initCalculation\u001b[0m\u001b[0;34m(\u001b[0m\u001b[0mself\u001b[0m\u001b[0;34m,\u001b[0m \u001b[0mvoxelCoordinates\u001b[0m\u001b[0;34m=\u001b[0m\u001b[0;32mNone\u001b[0m\u001b[0;34m)\u001b[0m\u001b[0;34m:\u001b[0m\u001b[0;34m\u001b[0m\u001b[0;34m\u001b[0m\u001b[0m\n\u001b[0;32m--> 111\u001b[0;31m     \u001b[0mself\u001b[0m\u001b[0;34m.\u001b[0m\u001b[0mP_glcm\u001b[0m \u001b[0;34m=\u001b[0m \u001b[0mself\u001b[0m\u001b[0;34m.\u001b[0m\u001b[0m_calculateMatrix\u001b[0m\u001b[0;34m(\u001b[0m\u001b[0mvoxelCoordinates\u001b[0m\u001b[0;34m)\u001b[0m\u001b[0;34m\u001b[0m\u001b[0;34m\u001b[0m\u001b[0m\n\u001b[0m\u001b[1;32m    112\u001b[0m \u001b[0;34m\u001b[0m\u001b[0m\n\u001b[1;32m    113\u001b[0m     \u001b[0mself\u001b[0m\u001b[0;34m.\u001b[0m\u001b[0m_calculateCoefficients\u001b[0m\u001b[0;34m(\u001b[0m\u001b[0;34m)\u001b[0m\u001b[0;34m\u001b[0m\u001b[0;34m\u001b[0m\u001b[0m\n",
      "\u001b[0;32m~/anaconda3/lib/python3.7/site-packages/pyradiomics-3.0.1.post3+g0c53d1d-py3.7-linux-x86_64.egg/radiomics/glcm.py\u001b[0m in \u001b[0;36m_calculateMatrix\u001b[0;34m(self, voxelCoordinates)\u001b[0m\n\u001b[1;32m    137\u001b[0m       \u001b[0mmatrix_args\u001b[0m \u001b[0;34m+=\u001b[0m \u001b[0;34m[\u001b[0m\u001b[0mself\u001b[0m\u001b[0;34m.\u001b[0m\u001b[0msettings\u001b[0m\u001b[0;34m.\u001b[0m\u001b[0mget\u001b[0m\u001b[0;34m(\u001b[0m\u001b[0;34m'kernelRadius'\u001b[0m\u001b[0;34m,\u001b[0m \u001b[0;36m1\u001b[0m\u001b[0;34m)\u001b[0m\u001b[0;34m,\u001b[0m \u001b[0mvoxelCoordinates\u001b[0m\u001b[0;34m]\u001b[0m\u001b[0;34m\u001b[0m\u001b[0;34m\u001b[0m\u001b[0m\n\u001b[1;32m    138\u001b[0m \u001b[0;34m\u001b[0m\u001b[0m\n\u001b[0;32m--> 139\u001b[0;31m     \u001b[0mP_glcm\u001b[0m\u001b[0;34m,\u001b[0m \u001b[0mangles\u001b[0m \u001b[0;34m=\u001b[0m \u001b[0mcMatrices\u001b[0m\u001b[0;34m.\u001b[0m\u001b[0mcalculate_glcm\u001b[0m\u001b[0;34m(\u001b[0m\u001b[0;34m*\u001b[0m\u001b[0mmatrix_args\u001b[0m\u001b[0;34m)\u001b[0m\u001b[0;34m\u001b[0m\u001b[0;34m\u001b[0m\u001b[0m\n\u001b[0m\u001b[1;32m    140\u001b[0m \u001b[0;34m\u001b[0m\u001b[0m\n\u001b[1;32m    141\u001b[0m     \u001b[0mself\u001b[0m\u001b[0;34m.\u001b[0m\u001b[0mlogger\u001b[0m\u001b[0;34m.\u001b[0m\u001b[0mdebug\u001b[0m\u001b[0;34m(\u001b[0m\u001b[0;34m'Process calculated matrix'\u001b[0m\u001b[0;34m)\u001b[0m\u001b[0;34m\u001b[0m\u001b[0;34m\u001b[0m\u001b[0m\n",
      "\u001b[0;31mMemoryError\u001b[0m: "
     ]
    }
   ],
   "source": [
    "error_dict = {}\n",
    "for size in [8, 32, 128]:\n",
    "    feat_df_width = pd.DataFrame()\n",
    "    feat_df_count = pd.DataFrame()\n",
    "    total = 0\n",
    "    for (path, dirs, files) in os.walk(in_path):\n",
    "        if files:\n",
    "     #       continue\n",
    "      #  try:\n",
    "            total += 1\n",
    "            pt = path.split(os.path.sep)[-1]\n",
    "            print(total, pt)\n",
    "            brain_paths = glob(os.path.join(path, '*'))\n",
    "            mask_paths = glob(os.path.join(maskDir, pt, '*'))\n",
    "\n",
    "            bw_features_lst, bw_cols_lst, bc_features_lst, bc_cols_lst = [], [], [], []\n",
    "\n",
    "            for (img_path, mask_path) in product(brain_paths, mask_paths):\n",
    "                seq = img_path.split(os.path.sep)[-1].split(\"_\")[1]\n",
    "                mask_type = mask_path.split(os.path.sep)[-1].split(\"_\")[0]\n",
    "\n",
    "                brain_img, mask = [sitk.ReadImage(path) for path in [img_path, mask_path]]\n",
    "                brain_arr, mask_arr = [sitk.GetArrayFromImage(img) for img in [brain_img, mask]]\n",
    "\n",
    "                # Scale\n",
    "                brain_arr = brain_arr * 100\n",
    "\n",
    "                # Change binWidth\n",
    "                bw_features, bw_cols = feature_extract(brain_arr, mask_arr, binWidth=size)\n",
    "                bw_cols = [col.replace('original', '{}'.format(seq)) for col in bw_cols]\n",
    "#                bw_cols = [col.replace('original', '{}_image_{}_mask'.format(seq, mask_type)) for col in bw_cols]\n",
    "\n",
    "                # Change binCount            \n",
    "                bc_features, bc_cols = feature_extract(brain_arr, mask_arr, binWidth=None, binCount=size)\n",
    "                bc_cols = [col.replace('original', '{}'.format(seq)) for col in bc_cols]\n",
    "#                bc_cols = [col.replace('original', '{}_image_{}_mask'.format(seq, mask_type)) for col in bc_cols]\n",
    "\n",
    "                bw_features_lst += bw_features\n",
    "                bw_cols_lst += bw_cols\n",
    "                bc_features_lst += bc_features\n",
    "                bc_cols_lst += bc_cols\n",
    "\n",
    "            feat_df_width = pd.concat([feat_df_width, pd.DataFrame(np.array(bw_features_lst),index=bw_cols_lst, columns=[pt]).T])\n",
    "            feat_df_count = pd.concat([feat_df_count, pd.DataFrame(np.array(bc_features_lst), index=bc_cols_lst, columns=[pt]).T])\n",
    "\n",
    "#        except Exception as e:\n",
    "#            print(\"error\", e, path)\n",
    "#            error_dict[path] = e\n",
    "            \n",
    "    feat_df_width.to_csv(os.path.join(outpath, 'Perfusion_study_radiomics_bin_width_%s_scale_100.csv'%size))\n",
    "    feat_df_count.to_csv(os.path.join(outpath, 'Perfusion_study_radiomics_bin_count_%s_scale_100.csv'%size))\n",
    "    print(\"Finished %d size\" % size)"
   ]
  },
  {
   "cell_type": "code",
   "execution_count": 8,
   "metadata": {
    "scrolled": true
   },
   "outputs": [
    {
     "data": {
      "text/plain": [
       "['/media/user/Samsung_T5/Stripped_znormed_421pts_images/10012748',\n",
       " '/media/user/Samsung_T5/Stripped_znormed_421pts_images/10067721',\n",
       " '/media/user/Samsung_T5/Stripped_znormed_421pts_images/10100220',\n",
       " '/media/user/Samsung_T5/Stripped_znormed_421pts_images/1952345',\n",
       " '/media/user/Samsung_T5/Stripped_znormed_421pts_images/3928044',\n",
       " '/media/user/Samsung_T5/Stripped_znormed_421pts_images/8303154',\n",
       " '/media/user/Samsung_T5/Stripped_znormed_421pts_images/8581917',\n",
       " '/media/user/Samsung_T5/Stripped_znormed_421pts_images/8807253',\n",
       " '/media/user/Samsung_T5/Stripped_znormed_421pts_images/6509113',\n",
       " '/media/user/Samsung_T5/Stripped_znormed_421pts_images/7697438',\n",
       " '/media/user/Samsung_T5/Stripped_znormed_421pts_images/8103623',\n",
       " '/media/user/Samsung_T5/Stripped_znormed_421pts_images/8106159',\n",
       " '/media/user/Samsung_T5/Stripped_znormed_421pts_images/8120969',\n",
       " '/media/user/Samsung_T5/Stripped_znormed_421pts_images/8177745',\n",
       " '/media/user/Samsung_T5/Stripped_znormed_421pts_images/8256945',\n",
       " '/media/user/Samsung_T5/Stripped_znormed_421pts_images/8317886',\n",
       " '/media/user/Samsung_T5/Stripped_znormed_421pts_images/8445140',\n",
       " '/media/user/Samsung_T5/Stripped_znormed_421pts_images/8446886',\n",
       " '/media/user/Samsung_T5/Stripped_znormed_421pts_images/8479829',\n",
       " '/media/user/Samsung_T5/Stripped_znormed_421pts_images/8511910',\n",
       " '/media/user/Samsung_T5/Stripped_znormed_421pts_images/8602001',\n",
       " '/media/user/Samsung_T5/Stripped_znormed_421pts_images/8614651',\n",
       " '/media/user/Samsung_T5/Stripped_znormed_421pts_images/8648348',\n",
       " '/media/user/Samsung_T5/Stripped_znormed_421pts_images/8648938',\n",
       " '/media/user/Samsung_T5/Stripped_znormed_421pts_images/8654183',\n",
       " '/media/user/Samsung_T5/Stripped_znormed_421pts_images/8670769',\n",
       " '/media/user/Samsung_T5/Stripped_znormed_421pts_images/8774903',\n",
       " '/media/user/Samsung_T5/Stripped_znormed_421pts_images/8820008',\n",
       " '/media/user/Samsung_T5/Stripped_znormed_421pts_images/8841826']"
      ]
     },
     "execution_count": 8,
     "metadata": {},
     "output_type": "execute_result"
    }
   ],
   "source": [
    "error_lst = pd.read_csv(\"/media/sc-mlsg/Samsung_T5/error_file.csv\")[\"Unnamed: 0\"].to_list()\n",
    "error_lst"
   ]
  },
  {
   "cell_type": "code",
   "execution_count": null,
   "metadata": {},
   "outputs": [],
   "source": []
  }
 ],
 "metadata": {
  "colab": {
   "collapsed_sections": [],
   "name": "PYW_metastasis.ipynb의 사본",
   "provenance": [
    {
     "file_id": "1LhWD-o5Z8U_CuIgATl-CLSaXwrANBg-K",
     "timestamp": 1605859976150
    }
   ]
  },
  "kernelspec": {
   "display_name": "Python 3",
   "language": "python",
   "name": "python3"
  },
  "language_info": {
   "codemirror_mode": {
    "name": "ipython",
    "version": 3
   },
   "file_extension": ".py",
   "mimetype": "text/x-python",
   "name": "python",
   "nbconvert_exporter": "python",
   "pygments_lexer": "ipython3",
   "version": "3.7.6"
  }
 },
 "nbformat": 4,
 "nbformat_minor": 1
}
