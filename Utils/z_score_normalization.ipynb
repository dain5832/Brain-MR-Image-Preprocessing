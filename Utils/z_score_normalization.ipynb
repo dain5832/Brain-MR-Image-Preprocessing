{
 "cells": [
  {
   "cell_type": "code",
   "execution_count": null,
   "metadata": {},
   "outputs": [],
   "source": [
    "import os\n",
    "import nibabel as nib\n",
    "import numpy as np\n",
    "from shutil import move"
   ]
  },
  {
   "cell_type": "code",
   "execution_count": null,
   "metadata": {},
   "outputs": [],
   "source": [
    "in_path = \"E:/Stripped_421pts_images\"\n",
    "outpath = \"E:/Stripped_znormed_421pts_images\"\n",
    "mask = None"
   ]
  },
  {
   "cell_type": "code",
   "execution_count": null,
   "metadata": {},
   "outputs": [],
   "source": [
    "for (path, dirs, files) in os.walk(in_path):\n",
    "    for file in files:\n",
    "        try:\n",
    "            print(path, file)\n",
    "            pt = path.split(os.path.sep)[-1]\n",
    "            newfilename = file.split(\".\")[0] + \"_znormed.nii.gz\"\n",
    "            if not os.path.exists(os.path.join(outpath, pt)):\n",
    "                os.mkdir(os.path.join(outpath, pt))\n",
    "        \n",
    "            if os.path.exists(os.path.join(outpath, pt, newfilename)):\n",
    "                print(\"already exists\")\n",
    "                continue\n",
    "            img_nii = nib.load(os.path.join(path, file))\n",
    "            img_data = img_nii.get_data()\n",
    "            mean = img_data.mean()\n",
    "            std = img_data.std()\n",
    "            normalized = nib.Nifti1Image((img_data - mean) / std, img_nii.affine, img_nii.header)\n",
    "            nib.save(normalized, os.path.join(outpath, pt, newfilename))\n",
    "        except Exception as e:\n",
    "            print(path, file)\n",
    "            print(e)"
   ]
  }
 ],
 "metadata": {
  "kernelspec": {
   "display_name": "Python 3",
   "language": "python",
   "name": "python3"
  },
  "language_info": {
   "codemirror_mode": {
    "name": "ipython",
    "version": 3
   },
   "file_extension": ".py",
   "mimetype": "text/x-python",
   "name": "python",
   "nbconvert_exporter": "python",
   "pygments_lexer": "ipython3",
   "version": "3.7.6"
  }
 },
 "nbformat": 4,
 "nbformat_minor": 2
}
