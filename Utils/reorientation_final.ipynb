{
 "cells": [
  {
   "cell_type": "markdown",
   "metadata": {},
   "source": [
    "내가 앞서서 한 것들은 모두 잘못된 것이었다.. \\\n",
    "가장 정확하고 빠르게 확인하는 방법은 mipav에서 reorientation을 해보고, \\\n",
    "affine이 어떻게 바뀌었는지 본 뒤에 그걸 구현하는 것이다!\n",
    "\n",
    "coronal에는 문제가 없는데 sagittal에서 mipav가 보여주는 affine과 python에서 출력하는 affine이 다르다. \\\n",
    "이유는 모르겠지만, 나중에 다른 데이터를 reorientation하게 되면 이 코드를 그대로 적용하지 말고, mipav와 비교해보자. "
   ]
  },
  {
   "cell_type": "code",
   "execution_count": null,
   "metadata": {},
   "outputs": [],
   "source": [
    "# load Nifti Image\n",
    "import os\n",
    "import nibabel as nib\n",
    "import numpy as np\n",
    "from glob import glob\n",
    "import shutil\n",
    "from copy import deepcopy"
   ]
  },
  {
   "cell_type": "code",
   "execution_count": null,
   "metadata": {},
   "outputs": [],
   "source": [
    "# affine 출력하는 코드\n",
    "filepath = \"C:/Users/dain5/Downloads/9081096/registered/9081096_T1GD_registered_mipav.nii.gz\"\n",
    "\n",
    "img = nib.load(filepath)\n",
    "\n",
    "img_data = img.get_fdata()\n",
    "affine = np.empty_like(img.affine)\n",
    "affine[:] = img.affine\n",
    "print(img.affine)"
   ]
  },
  {
   "cell_type": "code",
   "execution_count": null,
   "metadata": {
    "scrolled": true
   },
   "outputs": [],
   "source": [
    "filepath = \"C:/Users/dain5/Downloads/8861710/8861710_T1GD.nii.gz\"\n",
    "path = \"C:/Users/dain5/Downloads/8861710/\"\n",
    "file = \"T1GD_registered.nii\"\n",
    "\n",
    "img = nib.load(filepath)\n",
    "\n",
    "img_data = img.get_fdata()\n",
    "img_data = img_data.reshape(img_data.shape[0], img_data.shape[1], img_data.shape[2])\n",
    "affine = np.empty_like(img.affine)\n",
    "affine[:] = img.affine\n",
    "\n",
    "orientation = nib.aff2axcodes(img.affine)\n",
    "target_orientation = ('L', 'P', 'S')\n",
    "print(img.affine)\n",
    "if orientation == ('P', 'I', 'L'): # sagittal\n",
    "    # filp\n",
    "    img_flipped = np.flip(img_data, axis=1)\n",
    "    affine[:,1]*=-1\n",
    "    if affine[2,-1] > 0:\n",
    "        affine[2,-1] = affine[2,-1] - img_data.shape[1] + 1\n",
    "\n",
    "    elif affine[2,-1] < 0:\n",
    "        affine[2,-1] = affine[2,-1] + img_data.shape[1] - 1\n",
    "    \n",
    "    # transpose\n",
    "    img_T = img_flipped.transpose(2, 0, 1)\n",
    "    affine[:,[0,1,2]] = affine[:,[2,0,1]]\n",
    "#    affine[[0,1,2],-1] = affine[[2,0,1],-1]\n",
    "\n",
    "elif orientation == ('L', 'I', 'P'): # coronal\n",
    "    # flip\n",
    "    img_flipped = np.flip(img_data, axis=1)\n",
    "    affine[:,1]*=-1\n",
    "    if affine[1,-1] > 0:\n",
    "        affine[1,-1] = affine[1,-1] - img_data.shape[1] + 1\n",
    "\n",
    "    elif affine[1,-1] < 0:\n",
    "        affine[1,-1] = affine[1,-1] + img_data.shape[1] - 1\n",
    "\n",
    "\n",
    "    # transpose\n",
    "    img_T = img_flipped.transpose(0, 2, 1)\n",
    "    affine[:,[1,2]] = affine[:,[2,1]]\n",
    "    affine[[1,2],-1] = affine[[2,1],-1]\n",
    "\n",
    "\n",
    "elif orientation == ('L', 'P', 'S'): # axial\n",
    "    print(\"Image orientation is correct. The error was due to another issue.\")\n",
    "    \n",
    "else:\n",
    "    print(\"Image doesn't belong to coronal, sagittal, and axial. Check the orientation of Image\")\n",
    "\n",
    "\n",
    "print(affine)\n",
    "print(\"Orientation {} is changed to {}\".format(orientation, nib.aff2axcodes(affine)))\n",
    "# reorient된 파일을 저장하려면 아래 코드를 모두 uncomment하세요.\n",
    "ni_img = nib.Nifti1Image(img_T, affine)\n",
    "outPath = os.path.join(path, file.split('.')[0] + '_AX.nii')\n",
    "nib.save(ni_img, outPath)\n",
    "print(ni_img.affine)"
   ]
  },
  {
   "cell_type": "code",
   "execution_count": null,
   "metadata": {},
   "outputs": [],
   "source": []
  }
 ],
 "metadata": {
  "kernelspec": {
   "display_name": "Python 3",
   "language": "python",
   "name": "python3"
  },
  "language_info": {
   "codemirror_mode": {
    "name": "ipython",
    "version": 3
   },
   "file_extension": ".py",
   "mimetype": "text/x-python",
   "name": "python",
   "nbconvert_exporter": "python",
   "pygments_lexer": "ipython3",
   "version": "3.7.6"
  }
 },
 "nbformat": 4,
 "nbformat_minor": 2
}
