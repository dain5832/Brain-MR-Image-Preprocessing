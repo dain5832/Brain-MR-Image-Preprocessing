{
 "cells": [
  {
   "cell_type": "code",
   "execution_count": 1,
   "metadata": {},
   "outputs": [],
   "source": [
    "import os\n",
    "import numpy as np\n",
    "import nibabel as nib"
   ]
  },
  {
   "cell_type": "code",
   "execution_count": 2,
   "metadata": {},
   "outputs": [],
   "source": [
    "targetDir = '/media/sc-mlsg/DATA2/Perfusion_study_radiomics_preprocessed/00_Tumor_masks_organized'\n",
    "maskDir = '/media/sc-mlsg/DATA2/Perfusion_study_radiomics_preprocessed/00_Tumor_masks_resampled/'"
   ]
  },
  {
   "cell_type": "code",
   "execution_count": 3,
   "metadata": {
    "scrolled": true
   },
   "outputs": [
    {
     "name": "stdout",
     "output_type": "stream",
     "text": [
      "2034571\n",
      "2803895\n",
      "2826490\n",
      "2917442\n",
      "3387356\n",
      "3441152\n",
      "3579055\n",
      "3621229\n",
      "4199579\n",
      "4331755\n",
      "4413737\n",
      "5096558\n",
      "5588560\n",
      "5792723\n",
      "5843358\n",
      "6291624\n",
      "6645678\n",
      "6659190\n",
      "6673952\n",
      "6715199\n",
      "6776630\n",
      "6847146\n",
      "7471985\n",
      "7522152\n",
      "7547026\n",
      "7553272\n",
      "7644780\n",
      "7707348\n",
      "7711873\n",
      "7716992\n",
      "7741219\n",
      "7746738\n",
      "7753977\n",
      "7760652\n",
      "7767219\n",
      "7777703\n",
      "7781243\n",
      "7783083\n",
      "7808217\n",
      "7809569\n",
      "7816559\n",
      "7820534\n",
      "7826770\n",
      "7842502\n",
      "7845251\n",
      "7865431\n",
      "7871704\n",
      "7892450\n",
      "7898233\n",
      "7921035\n",
      "7922825\n",
      "7926232\n",
      "7938576\n",
      "7946503\n",
      "7947384\n",
      "7955082\n",
      "7968300\n",
      "7971571\n",
      "7973273\n",
      "8002014\n",
      "8011358\n",
      "8011880\n",
      "8018918\n",
      "8044835\n",
      "8051568\n",
      "8052811\n",
      "8060512\n",
      "8064434\n",
      "8072260\n",
      "8074420\n",
      "8077298\n",
      "8078358\n",
      "8082756\n",
      "8083396\n",
      "8089351\n",
      "8097929\n",
      "8101370\n",
      "8125034\n",
      "8170673\n",
      "8190372\n",
      "8224960\n",
      "8229739\n",
      "8235696\n",
      "8256132\n",
      "8367857\n",
      "8450356\n",
      "8463790\n",
      "8481377\n",
      "8483143\n",
      "8484226\n",
      "8485609\n",
      "8489830\n",
      "8491797\n",
      "8491887\n",
      "8494094\n",
      "8513671\n",
      "8518093\n",
      "8527924\n",
      "8529533\n",
      "8532530\n",
      "8536936\n",
      "8549991\n",
      "8562189\n",
      "8566583\n",
      "8568702\n",
      "6830738\n",
      "7821391\n",
      "8037487\n",
      "8268889\n",
      "8571328\n",
      "8588494\n",
      "8591024\n",
      "8595211\n",
      "8604413\n",
      "8630035\n",
      "8633978\n",
      "8640861\n",
      "8647046\n",
      "8651745\n",
      "8662383\n",
      "8664725\n",
      "8665561\n",
      "8695364\n",
      "8712859\n",
      "8736560\n",
      "8737593\n",
      "8739559\n",
      "8747465\n",
      "8784152\n",
      "8785065\n",
      "8795827\n",
      "8798832\n",
      "9111662\n",
      "mask.nii\n"
     ]
    }
   ],
   "source": [
    "for (path, dirs, files) in os.walk(maskDir):\n",
    "    if not files:\n",
    "        continue\n",
    "    for file in files:\n",
    "        total += 1\n",
    "        img = nib.load(os.path.join(path, file))\n",
    "        pt = path.split(os.path.sep)[-1]\n",
    "        print(total, pt)\n",
    "        filedata = img.get_fdata()\n",
    "        filedata = np.where(filedata > 0.5, 1, 0)\n",
    "        \n",
    "        if not os.path.exists(os.path.join(targetDir, pt)):        \n",
    "            os.makedirs(os.path.join(targetDir, pt))\n",
    "        new = nib.Nifti1Image(filedata, img.affine, img.header)\n",
    "        nib.save(new, os.path.join(targetDir, pt, file))"
   ]
  },
  {
   "cell_type": "code",
   "execution_count": 14,
   "metadata": {},
   "outputs": [
    {
     "name": "stderr",
     "output_type": "stream",
     "text": [
      "/home/sc-mlsg/anaconda3/lib/python3.7/site-packages/ipykernel_launcher.py:1: DeprecationWarning: get_data() is deprecated in favor of get_fdata(), which has a more predictable return type. To obtain get_data() behavior going forward, use numpy.asanyarray(img.dataobj).\n",
      "\n",
      "* deprecated from version: 3.0\n",
      "* Will raise <class 'nibabel.deprecator.ExpiredDeprecationError'> as of version: 5.0\n",
      "  \"\"\"Entry point for launching an IPython kernel.\n",
      "/home/sc-mlsg/anaconda3/lib/python3.7/site-packages/ipykernel_launcher.py:2: DeprecationWarning: get_data() is deprecated in favor of get_fdata(), which has a more predictable return type. To obtain get_data() behavior going forward, use numpy.asanyarray(img.dataobj).\n",
      "\n",
      "* deprecated from version: 3.0\n",
      "* Will raise <class 'nibabel.deprecator.ExpiredDeprecationError'> as of version: 5.0\n",
      "  \n"
     ]
    }
   ],
   "source": [
    "filedata = file.get_data()\n",
    "imgdata = img.get_data()"
   ]
  },
  {
   "cell_type": "code",
   "execution_count": 11,
   "metadata": {},
   "outputs": [
    {
     "data": {
      "text/plain": [
       "(256, 256, 25)"
      ]
     },
     "execution_count": 11,
     "metadata": {},
     "output_type": "execute_result"
    }
   ],
   "source": [
    "filedata.shape"
   ]
  },
  {
   "cell_type": "code",
   "execution_count": 15,
   "metadata": {},
   "outputs": [
    {
     "data": {
      "text/plain": [
       "(256, 256, 25)"
      ]
     },
     "execution_count": 15,
     "metadata": {},
     "output_type": "execute_result"
    }
   ],
   "source": [
    "imgdata.shape"
   ]
  },
  {
   "cell_type": "code",
   "execution_count": 18,
   "metadata": {},
   "outputs": [
    {
     "data": {
      "text/plain": [
       "<nibabel.nifti1.Nifti1Header at 0x7f93b20cf3d0>"
      ]
     },
     "execution_count": 18,
     "metadata": {},
     "output_type": "execute_result"
    }
   ],
   "source": [
    "file.header"
   ]
  },
  {
   "cell_type": "code",
   "execution_count": null,
   "metadata": {},
   "outputs": [],
   "source": []
  }
 ],
 "metadata": {
  "kernelspec": {
   "display_name": "Python 3",
   "language": "python",
   "name": "python3"
  },
  "language_info": {
   "codemirror_mode": {
    "name": "ipython",
    "version": 3
   },
   "file_extension": ".py",
   "mimetype": "text/x-python",
   "name": "python",
   "nbconvert_exporter": "python",
   "pygments_lexer": "ipython3",
   "version": "3.7.6"
  }
 },
 "nbformat": 4,
 "nbformat_minor": 4
}
