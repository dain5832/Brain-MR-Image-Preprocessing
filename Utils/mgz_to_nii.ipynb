{
 "cells": [
  {
   "cell_type": "markdown",
   "metadata": {},
   "source": [
    "# mgz_to_nii\n",
    "- change mgz file to nifti. freesurfer required.\n",
    "- install: https://surfer.nmr.mgh.harvard.edu/fswiki//FS7_linux\n",
    "- Settings to use script in python: https://surfer.nmr.mgh.harvard.edu/fswiki/Python "
   ]
  },
  {
   "cell_type": "code",
   "execution_count": null,
   "metadata": {},
   "outputs": [],
   "source": [
    "import os\n",
    "from glob import glob\n",
    "\n",
    "source = sorted(glob('/media/sc-mlsg/PYW98854602/20210104_Schizophrenia/**/**/**/mri/T1.mgz'))\n",
    "target = '/media/sc-mlsg/PYW98854602/20210104_Schizophrenia/'"
   ]
  },
  {
   "cell_type": "code",
   "execution_count": null,
   "metadata": {},
   "outputs": [],
   "source": [
    "# check if every patients has t1 sequence\n",
    "print(len(source))\n",
    "for i in source:\n",
    "    print(i.split(os.path.sep)[-4])"
   ]
  },
  {
   "cell_type": "code",
   "execution_count": null,
   "metadata": {
    "scrolled": true
   },
   "outputs": [],
   "source": [
    "for filepath in source:\n",
    "    outpath = os.path.join('/'.join(filepath.split(os.path.sep)[:-3]), 'T1.nii')\n",
    "    !mri_convert --in_type 'mgz' --out_type 'nii' --input_volume {filepath} --output_volume {outpath}"
   ]
  }
 ],
 "metadata": {
  "kernelspec": {
   "display_name": "Python 3",
   "language": "python",
   "name": "python3"
  },
  "language_info": {
   "codemirror_mode": {
    "name": "ipython",
    "version": 3
   },
   "file_extension": ".py",
   "mimetype": "text/x-python",
   "name": "python",
   "nbconvert_exporter": "python",
   "pygments_lexer": "ipython3",
   "version": "3.7.6"
  }
 },
 "nbformat": 4,
 "nbformat_minor": 4
}
