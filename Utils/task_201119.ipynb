{
 "cells": [
  {
   "cell_type": "markdown",
   "metadata": {},
   "source": [
    "## 201119 task\n",
    "\n",
    "환자 폴더 없애고, \\\n",
    "파일 이름 ID_ADC600 \\\n",
    "이렇게 변경."
   ]
  },
  {
   "cell_type": "code",
   "execution_count": null,
   "metadata": {},
   "outputs": [],
   "source": [
    "import os\n",
    "import shutil\n",
    "import pandas as pd"
   ]
  },
  {
   "cell_type": "code",
   "execution_count": null,
   "metadata": {},
   "outputs": [],
   "source": [
    "in_path = '/media/sc-mlsg/DATA2/ADC_sorted_nii/'\n",
    "out_path = '/media/sc-mlsg/DATA2/ADC_sorted_nii/'\n",
    "xlsx_path = '/media/sc-mlsg/DATA2/sequences_checked_rawnifit_ADC3.xlsx'"
   ]
  },
  {
   "cell_type": "code",
   "execution_count": null,
   "metadata": {
    "scrolled": true
   },
   "outputs": [],
   "source": [
    "for (paths, dirs, files) in os.walk(in_path):\n",
    "    print(paths, dirs, files)"
   ]
  },
  {
   "cell_type": "code",
   "execution_count": null,
   "metadata": {
    "scrolled": true
   },
   "outputs": [],
   "source": [
    "# read csv file\n",
    "data = pd.read_excel(xlsx_path)\n",
    "data.dtypes"
   ]
  },
  {
   "cell_type": "code",
   "execution_count": null,
   "metadata": {
    "scrolled": true
   },
   "outputs": [],
   "source": [
    "data['ID'] = data['ID'].apply(str)\n",
    "data.dtypes"
   ]
  },
  {
   "cell_type": "code",
   "execution_count": null,
   "metadata": {
    "scrolled": true
   },
   "outputs": [],
   "source": [
    "for (path, dirs, files) in os.walk(in_path):\n",
    "    for file in files:\n",
    "        pt = path.split(os.path.sep)[-1]\n",
    "        print(path, file, pt)\n",
    "        \n",
    "        # get adc value\n",
    "        adc_val = data[data.ID == pt][\"ADC\"].to_list()\n",
    "\n",
    "        if not adc_val:\n",
    "            print(file , \": matched row not exists\")\n",
    "            continue\n",
    "        # assign newfilename\n",
    "        new_filename = \"{}_ADC{}\".format(pt, adc_val[0])\n",
    "#        print(new_filename)\n",
    "        \n",
    "        # copy file\n",
    "        shutil.copyfile(os.path.join(path, file), os.path.join(out_path, new_filename))"
   ]
  },
  {
   "cell_type": "code",
   "execution_count": null,
   "metadata": {},
   "outputs": [],
   "source": []
  }
 ],
 "metadata": {
  "kernelspec": {
   "display_name": "Python 3",
   "language": "python",
   "name": "python3"
  },
  "language_info": {
   "codemirror_mode": {
    "name": "ipython",
    "version": 3
   },
   "file_extension": ".py",
   "mimetype": "text/x-python",
   "name": "python",
   "nbconvert_exporter": "python",
   "pygments_lexer": "ipython3",
   "version": "3.7.6"
  }
 },
 "nbformat": 4,
 "nbformat_minor": 4
}
