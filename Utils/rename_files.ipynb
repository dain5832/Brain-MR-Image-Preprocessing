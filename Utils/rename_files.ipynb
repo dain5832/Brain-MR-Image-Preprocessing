{
 "cells": [
  {
   "cell_type": "markdown",
   "metadata": {},
   "source": [
    "## Task\n",
    "change file name \\\n",
    "adc if adc in filename \\\n",
    "flair if flair or f. in filename \\\n",
    "T1GD remainder"
   ]
  },
  {
   "cell_type": "code",
   "execution_count": null,
   "metadata": {},
   "outputs": [],
   "source": [
    "import numpy as np\n",
    "import pandas as pd\n",
    "import os\n",
    "import shutil\n",
    "from glob import glob"
   ]
  },
  {
   "cell_type": "code",
   "execution_count": null,
   "metadata": {},
   "outputs": [],
   "source": [
    "filepath = '/media/sc-mlsg/DATA2/Perfusion_study_radiomics_preprocessed/05_Stripped_znormalized/'"
   ]
  },
  {
   "cell_type": "code",
   "execution_count": null,
   "metadata": {},
   "outputs": [],
   "source": [
    "adc = glob(os.path.join(filepath, '**', '*ADC*'))\n",
    "len(adc)\n",
    "for file in adc:\n",
    "    pt = file.split(os.path.sep)[-2]\n",
    "    newfilename = pt+'_ADC.nii.gz'\n",
    "    print(os.path.basename(file), newfilename)\n",
    "    os.rename(file, os.path.join(os.path.dirname(file), newfilename))"
   ]
  },
  {
   "cell_type": "code",
   "execution_count": null,
   "metadata": {},
   "outputs": [],
   "source": [
    "flair = glob(os.path.join(filepath, '**', '*F*'))\n",
    "len(flair)\n",
    "for file in flair:\n",
    "    pt = file.split(os.path.sep)[-2]\n",
    "    newfilename = pt+'_FLAIR_stripped_znormed.nii.gz'\n",
    "    print(os.path.basename(file), newfilename)\n",
    "    os.rename(file, os.path.join(os.path.dirname(file), newfilename))"
   ]
  },
  {
   "cell_type": "code",
   "execution_count": null,
   "metadata": {},
   "outputs": [],
   "source": [
    "flair = glob(os.path.join(filepath, '**', '*F*'))\n",
    "len(flair)\n",
    "flair[0]"
   ]
  },
  {
   "cell_type": "code",
   "execution_count": null,
   "metadata": {},
   "outputs": [],
   "source": [
    "adc[0].split(os.path.sep)[-2]"
   ]
  },
  {
   "cell_type": "code",
   "execution_count": null,
   "metadata": {},
   "outputs": [],
   "source": [
    "total = 0\n",
    "for (path, dirs, files) in os.walk(filepath):\n",
    "    if dirs:\n",
    "        for file in files:\n",
    "            if 'ADC' not in file and 'FLAIR' not in file and 'mask' not in file:\n",
    "                total += 1\n",
    "                print(total, file)\n",
    "                pt = path.split(os.path.sep)[-1]\n",
    "                newfilename = pt+'_T1GD.nii.gz'\n",
    "#                print(file, newfilename)\n",
    "                os.rename(os.path.join(path, file), os.path.join(path, newfilename))"
   ]
  },
  {
   "cell_type": "code",
   "execution_count": null,
   "metadata": {},
   "outputs": [],
   "source": [
    "for (path, dirs, files) in os.walk(filepath):\n",
    "    if dirs:\n",
    "        print(path, dirs, files)"
   ]
  },
  {
   "cell_type": "code",
   "execution_count": null,
   "metadata": {},
   "outputs": [],
   "source": [
    "mask = glob(os.path.join(filepath, '**', '*mask*'))\n",
    "print(len(mask))\n",
    "for file in mask:\n",
    "    pt = file.split(os.path.sep)[-2]\n",
    "    newfilename = pt+'_mask.nii'\n",
    "    print(os.path.basename(file), newfilename)\n",
    "    os.rename(file, os.path.join(os.path.dirname(file), newfilename))"
   ]
  },
  {
   "cell_type": "code",
   "execution_count": null,
   "metadata": {},
   "outputs": [],
   "source": []
  }
 ],
 "metadata": {
  "kernelspec": {
   "display_name": "Python 3",
   "language": "python",
   "name": "python3"
  },
  "language_info": {
   "codemirror_mode": {
    "name": "ipython",
    "version": 3
   },
   "file_extension": ".py",
   "mimetype": "text/x-python",
   "name": "python",
   "nbconvert_exporter": "python",
   "pygments_lexer": "ipython3",
   "version": "3.7.6"
  }
 },
 "nbformat": 4,
 "nbformat_minor": 4
}
