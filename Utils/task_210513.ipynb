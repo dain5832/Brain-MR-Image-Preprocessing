{
 "cells": [
  {
   "cell_type": "code",
   "execution_count": 6,
   "metadata": {},
   "outputs": [],
   "source": [
    "import os\n",
    "import numpy as np\n",
    "import pandas as pd\n",
    "\n",
    "sourceDir = '/media/sc-mlsg/PYW98854602/20210428_Acromegaly_GKS_nii_preprocessed/02_Corrected/'"
   ]
  },
  {
   "cell_type": "code",
   "execution_count": 8,
   "metadata": {},
   "outputs": [
    {
     "name": "stdout",
     "output_type": "stream",
     "text": [
      "['3D_AX', '3D_COR_GD', '3D_COR_MPR_GD', '3D_FSPGR_AX_GD', '3D_FSPGR_COR_GD', '3D_FSPGR_SAG_GD', '3D_Fiesta_C_256_AX_GD', '3D_SAG', '3D_SAG_GD', '3D_SAG_MPR_GD', '3D_TOF', '3D_TOF_NEW', '3D_TOF_cs1', '3D_fSPGR_AX_256_GD', 'AXL_T1_GD_fl2d', 'AXL_T2_tse', 'Ax_FSE_T2', 'Ax_T2_FLAIR', 'Axl_T1+C', 'Axl_T2_FSE', 'COR_CUBE_T1', 'COR_CUBE_T1_GD', 'COR_CUBE_T2', 'COR_FSE_T1Dynamic', 'COR_FSE_T2', 'COR_SE_T1W', 'COR_SE_T1W_GD', 'COR_T1_DELAY', 'COR_T1_fl2d', 'Cor_CUBE_T1', 'Cor_CUBE_T1_GD', 'Cor_T1_Dynamic_30,1,2,4', 'Cor_T1_SE', 'Cor_T1_SE__GD', 'Cor_T2_FSE', 'Cor_T2_PROPELLER', 'DWI_NEW', 'DYNAMIC', 'DYNAMIC_COR', 'Dynamic', 'Dynamic_Cor', 'FIESTA_AX', 'FIESTA_AX_GD', 'FIESTA_COR', 'FIESTA_COR_GD', 'FIESTA_SAG', 'FIESTA_SAG_GD', 'FSPGR_AX_GD', 'FSPGR_COR_GD', 'FSPGR_SAG_GD', 'Fiesta_C_COR_GD', 'Fiesta_C_SAG_GD', 'GD_T1W_COR', 'GD_T1W_COR_2MM', 'GD_T1W_SAG', 'LOCAL', 'Localizer', 'ORIG_T2_AX_PROPELLER', 'PD_3D_AX', 'PD_3D_COR_0', 'PD_3D_SAG_0', 'PU:COR_CUBE_T2', 'SAG_CUBE_T1', 'SAG_CUBE_T1_GD', 'SAG_CUBE_T2', 'SAG_SE_T1W', 'SAG_SE_T1W_GD', 'SAG_T1_GD', 'SAG_T1_fl2d', 'SC:NOT_DIAGNOSTIC:_3D_TOF_cs1', 'SURVEY', 'SWI_Images', 'Sag_T1_SE', 'Sag_T1_SE_GD', 'T1W_COR_GD', 'T1W_COR_GD_2MM', 'T1W_SAG', 'T1W_SAG_GD', 'T1W_TSE_cor', 'T1W_TSE_sag', 'T1_5dyn-1', 'T1_5dyn-1_CLEAR', 'T1_AX_GD', 'T1_COR', 'T1_COR_DYNAMIC', 'T1_COR_GD', 'T1_COR_GD_CLEAR', 'T1_SAG', 'T1_SAG_CLEAR', 'T1_SAG_GD', 'T1_SAG_GD_CLEAR', 'T1_SE_AX', 'T1_SE_COR', 'T1_SE_SAG', 'T1_SE_SAG_CE', 'T2W_AX_THIN', 'T2W_AX_THIN_CUT', 'T2W_AX_THIN_CUT_LIP-VERTEX', 'T2W_AX_THIN_CUT_lip-vertex', 'T2W_COR_HR', 'T2W_HR_COR', 'T2W_HR_COR_2MM', 'T2W_SAG', 'T2W_TSE_sag', 'T2_AX', 'T2_AX_FULL', 'T2_AX_NAVI', 'T2_AX_PROPELLER', 'T2_AX_THIN', 'T2_AX_THIN_CUT', 'T2_AX_THIN_SENSE', 'T2_AX_Thin', 'T2_AX__NAVI', 'T2_AX__THIN', 'T2_AX_thin_cut', 'T2_AX_thincut', 'T2_COR', 'T2_COR_HR', 'T2_COR_HR_SENSE', 'T2_Cor_PROPELLER', 'T2_FFE', 'T2_FFE_SAG', 'T2_SAG', 'T2_SAG_SENSE', 'T2_TSE_AX', 'T2_TSE_COR', 'T2_TSE_SAG', 'TOF-530', 'TOF_3D_multi-Willis', 'dADC', 'eTHRIVE_AX__GD', 'ep2d_diff_3scan_trace', 'ep2d_diff_3scan_trace_ADC', 'fl3d-cor_post_SUB', 'sDWI_B0', 'sDWI_B1000', 't1_fl2d_cor', 't1_fl2d_fs_tra', 't1_tirm_tra_dark-fluid', 't1_tse_cor', 't1_tse_cor_dynamic_pre', 't2_flair_tra', 't2_tse_cor_3mm', 't2_tse_sag', 't2_tse_sag_3mm', 't2_tse_tra', 't2_tse_tra_fs', 'tse_t2_1']\n"
     ]
    }
   ],
   "source": [
    "seq_lst = []\n",
    "for (path, dirs, files) in os.walk(sourceDir):\n",
    "    for file in files:\n",
    "        seq = '_'.join(file.split('.')[0].split('_')[1:])\n",
    "        seq_lst.append(seq)\n",
    "seq_lst = sorted(list(set(seq_lst)))\n",
    "print(seq_lst)\n",
    "        "
   ]
  },
  {
   "cell_type": "code",
   "execution_count": 9,
   "metadata": {
    "scrolled": true
   },
   "outputs": [],
   "source": [
    "df = pd.DataFrame(seq_lst)\n",
    "df.to_csv(os.path.join(sourceDir, 'sequence.csv'), index=False)"
   ]
  },
  {
   "cell_type": "code",
   "execution_count": null,
   "metadata": {},
   "outputs": [],
   "source": []
  }
 ],
 "metadata": {
  "kernelspec": {
   "display_name": "Python 3",
   "language": "python",
   "name": "python3"
  },
  "language_info": {
   "codemirror_mode": {
    "name": "ipython",
    "version": 3
   },
   "file_extension": ".py",
   "mimetype": "text/x-python",
   "name": "python",
   "nbconvert_exporter": "python",
   "pygments_lexer": "ipython3",
   "version": "3.7.6"
  }
 },
 "nbformat": 4,
 "nbformat_minor": 4
}
