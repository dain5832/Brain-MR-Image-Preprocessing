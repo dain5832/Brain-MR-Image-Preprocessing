{
 "cells": [
  {
   "cell_type": "markdown",
   "metadata": {},
   "source": [
    "# DICOM to NIFTI"
   ]
  },
  {
   "cell_type": "code",
   "execution_count": null,
   "metadata": {
    "scrolled": true
   },
   "outputs": [],
   "source": [
    "!pip install dicom2nifti"
   ]
  },
  {
   "cell_type": "code",
   "execution_count": null,
   "metadata": {},
   "outputs": [],
   "source": [
    "######### Conversion of DICOM to NIFTI: for PYW (2020.04.02) #########\n",
    "\n",
    "import os\n",
    "import dicom2nifti\n",
    "import shutil\n",
    "\n",
    "# arguments ##############################################\n",
    "in_path = 'E:/MR_Brain_20200921'  # A folder containing DICOM files.\n",
    "out_path = 'E:/MR_Brain_20200921_nii'  # A folder that tranformed nifti files will be saved.\n",
    "########################################################################################\n",
    "\n",
    "error_dict={}"
   ]
  },
  {
   "cell_type": "code",
   "execution_count": null,
   "metadata": {},
   "outputs": [],
   "source": [
    "# check file directory\n",
    "total = 0\n",
    "for (dcm_path, dirs, files) in os.walk(in_path):\n",
    "    total += 1\n",
    "    if total > 100:\n",
    "        break\n",
    "    print(dcm_path, dirs, files)\n",
    "    "
   ]
  },
  {
   "cell_type": "code",
   "execution_count": null,
   "metadata": {
    "scrolled": true
   },
   "outputs": [],
   "source": [
    "total = 0\n",
    "for (dcm_path, dirs, files) in os.walk(in_path):\n",
    "    if files == []:\n",
    "        continue\n",
    "    try:\n",
    "        print(\"Converting image #{} filename: {}\".format(total, dcm_path))\n",
    "        total += 1\n",
    "        pt = dcm_path.split(os.path.sep)[-1].split(\"_\")[0]\n",
    "        seq = dcm_path.split(os.path.sep)[-1].split(\"_\")[1]\n",
    "        #print(pt, seq)\n",
    "\n",
    "        new_dir = os.path.join(out_path, pt)\n",
    "        new_filename =  new_dir + \"/\" + pt + \"_\" + seq + \".nii\"\n",
    "\n",
    "        if not os.path.exists(new_dir):\n",
    "            os.makedirs(new_dir)\n",
    "\n",
    "        if os.path.exists(new_filename):\n",
    "            print(\"This file already has been converted.\")\n",
    "            continue\n",
    "        #print(new_filename)\n",
    "        dicom2nifti.dicom_series_to_nifti(dcm_path, new_filename, reorient_nifti=False)\n",
    "    \n",
    "    except Exception as error:\n",
    "        print(\"Error occured {}\".format(error))\n",
    "        error_dict[dcm_path] = error\n",
    "\n",
    "print(error_dict)"
   ]
  }
 ],
 "metadata": {
  "kernelspec": {
   "display_name": "Python 3",
   "language": "python",
   "name": "python3"
  },
  "language_info": {
   "codemirror_mode": {
    "name": "ipython",
    "version": 3
   },
   "file_extension": ".py",
   "mimetype": "text/x-python",
   "name": "python",
   "nbconvert_exporter": "python",
   "pygments_lexer": "ipython3",
   "version": "3.7.6"
  }
 },
 "nbformat": 4,
 "nbformat_minor": 4
}
