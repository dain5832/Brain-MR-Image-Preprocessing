{
 "cells": [
  {
   "cell_type": "markdown",
   "metadata": {},
   "source": [
    "# DICOM to NIFTI"
   ]
  },
  {
   "cell_type": "code",
   "execution_count": null,
   "metadata": {
    "scrolled": true
   },
   "outputs": [],
   "source": [
    "!pip install dicom2nifti"
   ]
  },
  {
   "cell_type": "code",
   "execution_count": null,
   "metadata": {},
   "outputs": [],
   "source": [
    "######### Conversion of DICOM to NIFTI #########\n",
    "\n",
    "import os\n",
    "import dicom2nifti\n",
    "import shutil\n",
    "import pandas as pd\n",
    "\n",
    "# arguments ##############################################\n",
    "in_path = '/media/sc-mlsg/PYW98854602/00_Siemens_BB/'  # A folder containing DICOM files.\n",
    "out_path = '/media/sc-mlsg/PYW98854602/00_Siemens_BB_nii/'  # A folder that tranformed nifti files will be saved.\n",
    "########################################################################################\n",
    "\n",
    "error_dict={}"
   ]
  },
  {
   "cell_type": "code",
   "execution_count": null,
   "metadata": {},
   "outputs": [],
   "source": [
    "# check file directory\n",
    "for (dcm_path, dirs, files) in os.walk(in_path):\n",
    "    print(dcm_path, dirs, files)\n",
    "    "
   ]
  },
  {
   "cell_type": "code",
   "execution_count": null,
   "metadata": {
    "scrolled": true
   },
   "outputs": [],
   "source": [
    "total = 0\n",
    "error_dict={}\n",
    "\n",
    "for (dcm_path, dirs, files) in os.walk(in_path):\n",
    "    if files == []:\n",
    "        continue\n",
    "    try:\n",
    "        total += 1\n",
    "        print(\"Converting image #{} filename: {}\".format(total, dcm_path))\n",
    "        pt = dcm_path.split(os.path.sep)[-1].split(\"_\")[0]\n",
    "        seq = dcm_path.split(os.path.sep)[-1].split(\"_\")[1]\n",
    "        print(pt, seq)\n",
    "\n",
    "        new_dir = os.path.join(out_path, pt)\n",
    "        new_filename =  new_dir + \"/\" + pt + \"_\" + seq + \".nii\"\n",
    "\n",
    "        if not os.path.exists(new_dir):\n",
    "            os.makedirs(new_dir)\n",
    "\n",
    "        if os.path.exists(new_filename):\n",
    "            print(\"This file already has been converted.\")\n",
    "            continue\n",
    "#        print(new_filename)\n",
    "        dicom2nifti.dicom_series_to_nifti(dcm_path, new_filename, reorient_nifti=False)\n",
    "    \n",
    "    except Exception as error:\n",
    "        print(\"Error occured {}\".format(error))\n",
    "        error_dict[dcm_path] = [seq, error]\n",
    "print(error_dict)\n",
    "\n",
    "#data = pd.DataFrame.from_dict(error_dict, orient='index', columns=[\"sequence\", \"error\"])\n",
    "#data.to_csv(os.path.join(out_path, \"error.csv\"))"
   ]
  },
  {
   "cell_type": "markdown",
   "metadata": {},
   "source": [
    "## Below is previous version"
   ]
  },
  {
   "cell_type": "code",
   "execution_count": null,
   "metadata": {},
   "outputs": [],
   "source": [
    "for img_set in os.listdir(PATH_in):\n",
    "    nrm, seq = img_set.split(' ') # the folder name was like \"patient number + space bar + sequence\"\n",
    "    \n",
    "    if os.path.exists(os.path.join(PATH_out, nrm)):\n",
    "        print(\"This patient has already been \")\n",
    "        continue\n",
    "    \n",
    "    new_filename = PATH_out + \"/\" + nrm + \"_\" + seq + \".nii\"\n",
    "    \n",
    "    \n",
    "        \n",
    "    img_set_path = os.path.join(PATH_in, img_set)\n",
    "    img_set_out_path = os.path.join(PATH_out, img_set)\n",
    "    os.makedirs(img_set_out_path)\n",
    "        \n",
    "    dicom2nifti.convert_directory(img_set_path, img_set_out_path, compression=False, reorient=False)\n",
    "    \n",
    "    for file in os.listdir(img_set_out_path):\n",
    "        os.rename(os.path.join(img_set_out_path, file), new_filename)\n",
    "\n",
    "    os.rmdir(img_set_out_path)        "
   ]
  },
  {
   "cell_type": "code",
   "execution_count": null,
   "metadata": {},
   "outputs": [],
   "source": [
    "# Previously used version\n",
    "for patient in os.listdir(PATH_in):\n",
    "    \n",
    "    patient_path = os.path.join(PATH_in, patient)\n",
    "    patient_out_path = os.path.join(PATH_out, patient)\n",
    "\n",
    "    if not os.path.exists(patient_out_path):\n",
    "        os.makedirs(patient_out_path)\n",
    "    for series in os.listdir(patient_path):\n",
    "        series_path = os.path.join(patient_path, series)\n",
    "        series_out_path = os.path.join(patient_out_path, series)\n",
    "\n",
    "        if not os.path.exists(series_out_path):\n",
    "            os.makedirs(series_out_path)\n",
    "\n",
    "        print(series_path, '-->', patient_out_path)\n",
    "\n",
    "        dicom2nifti.convert_directory(series_path, series_out_path, reorient=False)\n",
    "\n",
    "        for filename in os.listdir(series_out_path):\n",
    "            new_filename = series_out_path + \"/\" + patient + \"_\" + series + \".nii.gz\"\n",
    "            os.rename(os.path.join(series_out_path, filename), new_filename)\n",
    "\n",
    "    # 아래의 코드는 폴더 밖으로 빼내는 코드입니다.\n",
    "    for series in os.listdir(patient_out_path):\n",
    "        series_path = os.path.join(patient_out_path, series)\n",
    "\n",
    "        for filename in os.listdir(series_path):\n",
    "            shutil.move(os.path.join(series_path, filename), os.path.join(patient_out_path, filename))\n",
    "\n",
    "        # 아래의 코드는 자동으로 폴더를 제거합니다.\n",
    "        os.rmdir(os.path.join(patient_out_path, series))\n",
    "\n",
    "    total_no = str(len(os.listdir(PATH)))\n",
    "    print(str(i) + \"/\" + total_no)\n",
    "    i = i + 1"
   ]
  }
 ],
 "metadata": {
  "kernelspec": {
   "display_name": "Python 3",
   "language": "python",
   "name": "python3"
  },
  "language_info": {
   "codemirror_mode": {
    "name": "ipython",
    "version": 3
   },
   "file_extension": ".py",
   "mimetype": "text/x-python",
   "name": "python",
   "nbconvert_exporter": "python",
   "pygments_lexer": "ipython3",
   "version": "3.7.6"
  }
 },
 "nbformat": 4,
 "nbformat_minor": 4
}
